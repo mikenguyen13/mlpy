{
 "cells": [
  {
   "cell_type": "markdown",
   "id": "0c82647f-ca92-4c89-a76c-6b97783e379e",
   "metadata": {},
   "source": [
    "# Risk Minimization with Overdue Balance"
   ]
  },
  {
   "cell_type": "code",
   "execution_count": 1,
   "id": "fa2b82e7-3a59-4592-9442-31a33c700b3d",
   "metadata": {},
   "outputs": [
    {
     "name": "stdout",
     "output_type": "stream",
     "text": [
      "           ovd_days    ovd_amount      default     feature_1     feature_2  \\\n",
      "count  10000.000000  10000.000000  10000.00000  10000.000000  10000.000000   \n",
      "mean      59.313900    542.243953      0.00990      0.495761      0.498892   \n",
      "std       34.725189    263.281575      0.09901      0.286700      0.289545   \n",
      "min        0.000000      0.000000      0.00000      0.000006      0.000017   \n",
      "25%       29.000000    316.187446      0.00000      0.245967      0.248293   \n",
      "50%       59.000000    539.157497      0.00000      0.496876      0.495843   \n",
      "75%       89.000000    771.944865      0.00000      0.739443      0.752686   \n",
      "max      119.000000    999.824630      1.00000      0.999789      0.999972   \n",
      "\n",
      "          feature_3     feature_4     feature_5     feature_6     feature_7  \\\n",
      "count  10000.000000  10000.000000  10000.000000  10000.000000  10000.000000   \n",
      "mean       0.499342      0.500178      0.501649      0.502764      0.494686   \n",
      "std        0.288470      0.288659      0.286013      0.288550      0.290175   \n",
      "min        0.000105      0.000008      0.000151      0.000130      0.000101   \n",
      "25%        0.249627      0.253157      0.255038      0.250508      0.239096   \n",
      "50%        0.502451      0.499075      0.502132      0.508444      0.495424   \n",
      "75%        0.748365      0.752430      0.751997      0.753400      0.745842   \n",
      "max        0.999957      0.999940      0.999875      0.999867      0.999992   \n",
      "\n",
      "          feature_8     feature_9    feature_10    feature_11    feature_12  \\\n",
      "count  10000.000000  10000.000000  10000.000000  10000.000000  10000.000000   \n",
      "mean       0.499073      0.500733      0.494486      0.502005      0.507230   \n",
      "std        0.289016      0.289189      0.287636      0.290217      0.289288   \n",
      "min        0.000029      0.000028      0.000057      0.000079      0.000037   \n",
      "25%        0.246153      0.249201      0.243906      0.251347      0.254635   \n",
      "50%        0.501943      0.499742      0.493326      0.500331      0.510379   \n",
      "75%        0.748935      0.753876      0.739227      0.755896      0.758447   \n",
      "max        0.999976      0.999731      0.999921      0.999774      0.999989   \n",
      "\n",
      "         feature_13    feature_14    feature_15    feature_16  \n",
      "count  10000.000000  10000.000000  10000.000000  10000.000000  \n",
      "mean       0.503108      0.501439      0.500060      0.500604  \n",
      "std        0.287794      0.288828      0.287144      0.288411  \n",
      "min        0.000007      0.000026      0.000005      0.000040  \n",
      "25%        0.253871      0.251344      0.253360      0.254564  \n",
      "50%        0.503139      0.499560      0.503197      0.496113  \n",
      "75%        0.751065      0.751064      0.745185      0.748139  \n",
      "max        0.999852      0.999885      0.999983      0.999910  \n",
      "ovd_days      0\n",
      "ovd_amount    0\n",
      "default       0\n",
      "feature_1     0\n",
      "feature_2     0\n",
      "feature_3     0\n",
      "feature_4     0\n",
      "feature_5     0\n",
      "feature_6     0\n",
      "feature_7     0\n",
      "feature_8     0\n",
      "feature_9     0\n",
      "feature_10    0\n",
      "feature_11    0\n",
      "feature_12    0\n",
      "feature_13    0\n",
      "feature_14    0\n",
      "feature_15    0\n",
      "feature_16    0\n",
      "dtype: int64\n",
      "Class distribution for 'default':\n",
      "default\n",
      "0    0.9901\n",
      "1    0.0099\n",
      "Name: proportion, dtype: float64\n"
     ]
    },
    {
     "data": {
      "image/png": "[encoded data removed]",
      "text/plain": [
       "<Figure size 640x480 with 1 Axes>"
      ]
     },
     "metadata": {},
     "output_type": "display_data"
    },
    {
     "name": "stdout",
     "output_type": "stream",
     "text": [
      "\n",
      "Evaluating model: MTAN\n"
     ]
    },
    {
     "name": "stdout",
     "output_type": "stream",
     "text": [
      "\r",
      " 1/44 [..............................] - ETA: 7s"
     ]
    },
    {
     "name": "stdout",
     "output_type": "stream",
     "text": [
      "\b\b\b\b\b\b\b\b\b\b\b\b\b\b\b\b\b\b\b\b\b\b\b\b\b\b\b\b\b\b\b\b\b\b\b\b\b\b\b\b\b\b\b\b\b\b\b\b\r",
      "24/44 [===============>..............] - ETA: 0s"
     ]
    },
    {
     "name": "stdout",
     "output_type": "stream",
     "text": [
      "\b\b\b\b\b\b\b\b\b\b\b\b\b\b\b\b\b\b\b\b\b\b\b\b\b\b\b\b\b\b\b\b\b\b\b\b\b\b\b\b\b\b\b\b\b\b\b\b\r",
      "44/44 [==============================] - 0s 2ms/step\n"
     ]
    },
    {
     "name": "stdout",
     "output_type": "stream",
     "text": [
      "\r",
      " 1/44 [..............................] - ETA: 5s"
     ]
    },
    {
     "name": "stdout",
     "output_type": "stream",
     "text": [
      "\b\b\b\b\b\b\b\b\b\b\b\b\b\b\b\b\b\b\b\b\b\b\b\b\b\b\b\b\b\b\b\b\b\b\b\b\b\b\b\b\b\b\b\b\b\b\b\b\r",
      "29/44 [==================>...........] - ETA: 0s"
     ]
    },
    {
     "name": "stdout",
     "output_type": "stream",
     "text": [
      "\b\b\b\b\b\b\b\b\b\b\b\b\b\b\b\b\b\b\b\b\b\b\b\b\b\b\b\b\b\b\b\b\b\b\b\b\b\b\b\b\b\b\b\b\b\b\b\b\r",
      "44/44 [==============================] - 0s 2ms/step\n"
     ]
    },
    {
     "name": "stdout",
     "output_type": "stream",
     "text": [
      "\r",
      " 1/44 [..............................] - ETA: 4s"
     ]
    },
    {
     "name": "stdout",
     "output_type": "stream",
     "text": [
      "\b\b\b\b\b\b\b\b\b\b\b\b\b\b\b\b\b\b\b\b\b\b\b\b\b\b\b\b\b\b\b\b\b\b\b\b\b\b\b\b\b\b\b\b\b\b\b\b\r",
      "34/44 [======================>.......] - ETA: 0s"
     ]
    },
    {
     "name": "stdout",
     "output_type": "stream",
     "text": [
      "\b\b\b\b\b\b\b\b\b\b\b\b\b\b\b\b\b\b\b\b\b\b\b\b\b\b\b\b\b\b\b\b\b\b\b\b\b\b\b\b\b\b\b\b\b\b\b\b\r",
      "44/44 [==============================] - 0s 2ms/step\n"
     ]
    },
    {
     "name": "stdout",
     "output_type": "stream",
     "text": [
      "\r",
      " 1/44 [..............................] - ETA: 4s"
     ]
    },
    {
     "name": "stdout",
     "output_type": "stream",
     "text": [
      "\b\b\b\b\b\b\b\b\b\b\b\b\b\b\b\b\b\b\b\b\b\b\b\b\b\b\b\b\b\b\b\b\b\b\b\b\b\b\b\b\b\b\b\b\b\b\b\b\r",
      "32/44 [====================>.........] - ETA: 0s"
     ]
    },
    {
     "name": "stdout",
     "output_type": "stream",
     "text": [
      "\b\b\b\b\b\b\b\b\b\b\b\b\b\b\b\b\b\b\b\b\b\b\b\b\b\b\b\b\b\b\b\b\b\b\b\b\b\b\b\b\b\b\b\b\b\b\b\b\r",
      "44/44 [==============================] - 0s 2ms/step\n"
     ]
    },
    {
     "name": "stdout",
     "output_type": "stream",
     "text": [
      "\r",
      " 1/44 [..............................] - ETA: 4s"
     ]
    },
    {
     "name": "stdout",
     "output_type": "stream",
     "text": [
      "\b\b\b\b\b\b\b\b\b\b\b\b\b\b\b\b\b\b\b\b\b\b\b\b\b\b\b\b\b\b\b\b\b\b\b\b\b\b\b\b\b\b\b\b\b\b\b\b\r",
      "31/44 [====================>.........] - ETA: 0s"
     ]
    },
    {
     "name": "stdout",
     "output_type": "stream",
     "text": [
      "\b\b\b\b\b\b\b\b\b\b\b\b\b\b\b\b\b\b\b\b\b\b\b\b\b\b\b\b\b\b\b\b\b\b\b\b\b\b\b\b\b\b\b\b\b\b\b\b\r",
      "44/44 [==============================] - 0s 2ms/step\n"
     ]
    },
    {
     "name": "stdout",
     "output_type": "stream",
     "text": [
      "MTAN - Cross-Validation Accuracy: 0.9899\n",
      "MTAN - Cross-Validation MSE: 75781.9665\n",
      "\r",
      " 1/47 [..............................] - ETA: 1s"
     ]
    },
    {
     "name": "stdout",
     "output_type": "stream",
     "text": [
      "\b\b\b\b\b\b\b\b\b\b\b\b\b\b\b\b\b\b\b\b\b\b\b\b\b\b\b\b\b\b\b\b\b\b\b\b\b\b\b\b\b\b\b\b\b\b\b\b\r",
      "29/47 [=================>............] - ETA: 0s"
     ]
    },
    {
     "name": "stdout",
     "output_type": "stream",
     "text": [
      "\b\b\b\b\b\b\b\b\b\b\b\b\b\b\b\b\b\b\b\b\b\b\b\b\b\b\b\b\b\b\b\b\b\b\b\b\b\b\b\b\b\b\b\b\b\b\b\b\r",
      "47/47 [==============================] - 0s 2ms/step\n"
     ]
    },
    {
     "name": "stdout",
     "output_type": "stream",
     "text": [
      "Evaluating model on holdout set: MTAN\n",
      "MTAN - Binary Accuracy: 0.9913\n",
      "MTAN - Features Prediction MSE: 73045.2218\n",
      "\n",
      "Evaluating model: Cross-Stitch\n"
     ]
    },
    {
     "name": "stdout",
     "output_type": "stream",
     "text": [
      "\r",
      " 1/44 [..............................] - ETA: 4s"
     ]
    },
    {
     "name": "stdout",
     "output_type": "stream",
     "text": [
      "\b\b\b\b\b\b\b\b\b\b\b\b\b\b\b\b\b\b\b\b\b\b\b\b\b\b\b\b\b\b\b\b\b\b\b\b\b\b\b\b\b\b\b\b\b\b\b\b\r",
      "33/44 [=====================>........] - ETA: 0s"
     ]
    },
    {
     "name": "stdout",
     "output_type": "stream",
     "text": [
      "\b\b\b\b\b\b\b\b\b\b\b\b\b\b\b\b\b\b\b\b\b\b\b\b\b\b\b\b\b\b\b\b\b\b\b\b\b\b\b\b\b\b\b\b\b\b\b\b\r",
      "44/44 [==============================] - 0s 2ms/step\n"
     ]
    },
    {
     "name": "stdout",
     "output_type": "stream",
     "text": [
      "\r",
      " 1/44 [..............................] - ETA: 5s"
     ]
    },
    {
     "name": "stdout",
     "output_type": "stream",
     "text": [
      "\b\b\b\b\b\b\b\b\b\b\b\b\b\b\b\b\b\b\b\b\b\b\b\b\b\b\b\b\b\b\b\b\b\b\b\b\b\b\b\b\b\b\b\b\b\b\b\b\r",
      "29/44 [==================>...........] - ETA: 0s"
     ]
    },
    {
     "name": "stdout",
     "output_type": "stream",
     "text": [
      "\b\b\b\b\b\b\b\b\b\b\b\b\b\b\b\b\b\b\b\b\b\b\b\b\b\b\b\b\b\b\b\b\b\b\b\b\b\b\b\b\b\b\b\b\b\b\b\b\r",
      "44/44 [==============================] - 0s 2ms/step\n"
     ]
    },
    {
     "name": "stdout",
     "output_type": "stream",
     "text": [
      "\r",
      " 1/44 [..............................] - ETA: 4s"
     ]
    },
    {
     "name": "stdout",
     "output_type": "stream",
     "text": [
      "\b\b\b\b\b\b\b\b\b\b\b\b\b\b\b\b\b\b\b\b\b\b\b\b\b\b\b\b\b\b\b\b\b\b\b\b\b\b\b\b\b\b\b\b\b\b\b\b\r",
      "32/44 [====================>.........] - ETA: 0s"
     ]
    },
    {
     "name": "stdout",
     "output_type": "stream",
     "text": [
      "\b\b\b\b\b\b\b\b\b\b\b\b\b\b\b\b\b\b\b\b\b\b\b\b\b\b\b\b\b\b\b\b\b\b\b\b\b\b\b\b\b\b\b\b\b\b\b\b\r",
      "44/44 [==============================] - 0s 2ms/step\n"
     ]
    },
    {
     "name": "stdout",
     "output_type": "stream",
     "text": [
      "\r",
      " 1/44 [..............................] - ETA: 4s"
     ]
    },
    {
     "name": "stdout",
     "output_type": "stream",
     "text": [
      "\b\b\b\b\b\b\b\b\b\b\b\b\b\b\b\b\b\b\b\b\b\b\b\b\b\b\b\b\b\b\b\b\b\b\b\b\b\b\b\b\b\b\b\b\b\b\b\b\r",
      "35/44 [======================>.......] - ETA: 0s"
     ]
    },
    {
     "name": "stdout",
     "output_type": "stream",
     "text": [
      "\b\b\b\b\b\b\b\b\b\b\b\b\b\b\b\b\b\b\b\b\b\b\b\b\b\b\b\b\b\b\b\b\b\b\b\b\b\b\b\b\b\b\b\b\b\b\b\b\r",
      "44/44 [==============================] - 0s 2ms/step\n"
     ]
    },
    {
     "name": "stdout",
     "output_type": "stream",
     "text": [
      "\r",
      " 1/44 [..............................] - ETA: 4s"
     ]
    },
    {
     "name": "stdout",
     "output_type": "stream",
     "text": [
      "\b\b\b\b\b\b\b\b\b\b\b\b\b\b\b\b\b\b\b\b\b\b\b\b\b\b\b\b\b\b\b\b\b\b\b\b\b\b\b\b\b\b\b\b\b\b\b\b\r",
      "33/44 [=====================>........] - ETA: 0s"
     ]
    },
    {
     "name": "stdout",
     "output_type": "stream",
     "text": [
      "\b\b\b\b\b\b\b\b\b\b\b\b\b\b\b\b\b\b\b\b\b\b\b\b\b\b\b\b\b\b\b\b\b\b\b\b\b\b\b\b\b\b\b\b\b\b\b\b\r",
      "44/44 [==============================] - 0s 2ms/step\n"
     ]
    },
    {
     "name": "stdout",
     "output_type": "stream",
     "text": [
      "Cross-Stitch - Cross-Validation Accuracy: 0.9899\n",
      "Cross-Stitch - Cross-Validation MSE: 71232.1553\n",
      "\r",
      " 1/47 [..............................] - ETA: 1s"
     ]
    },
    {
     "name": "stdout",
     "output_type": "stream",
     "text": [
      "\b\b\b\b\b\b\b\b\b\b\b\b\b\b\b\b\b\b\b\b\b\b\b\b\b\b\b\b\b\b\b\b\b\b\b\b\b\b\b\b\b\b\b\b\b\b\b\b\r",
      "32/47 [===================>..........] - ETA: 0s"
     ]
    },
    {
     "name": "stdout",
     "output_type": "stream",
     "text": [
      "\b\b\b\b\b\b\b\b\b\b\b\b\b\b\b\b\b\b\b\b\b\b\b\b\b\b\b\b\b\b\b\b\b\b\b\b\b\b\b\b\b\b\b\b\b\b\b\b\r",
      "47/47 [==============================] - 0s 2ms/step\n"
     ]
    },
    {
     "name": "stdout",
     "output_type": "stream",
     "text": [
      "Evaluating model on holdout set: Cross-Stitch\n",
      "Cross-Stitch - Binary Accuracy: 0.9913\n",
      "Cross-Stitch - Features Prediction MSE: 73962.1374\n",
      "\n",
      "Evaluating model: MTL-DNN\n"
     ]
    },
    {
     "name": "stdout",
     "output_type": "stream",
     "text": [
      "\r",
      " 1/44 [..............................] - ETA: 4s"
     ]
    },
    {
     "name": "stdout",
     "output_type": "stream",
     "text": [
      "\b\b\b\b\b\b\b\b\b\b\b\b\b\b\b\b\b\b\b\b\b\b\b\b\b\b\b\b\b\b\b\b\b\b\b\b\b\b\b\b\b\b\b\b\b\b\b\b\r",
      "32/44 [====================>.........] - ETA: 0s"
     ]
    },
    {
     "name": "stdout",
     "output_type": "stream",
     "text": [
      "\b\b\b\b\b\b\b\b\b\b\b\b\b\b\b\b\b\b\b\b\b\b\b\b\b\b\b\b\b\b\b\b\b\b\b\b\b\b\b\b\b\b\b\b\b\b\b\b\r",
      "44/44 [==============================] - 0s 2ms/step\n"
     ]
    },
    {
     "name": "stdout",
     "output_type": "stream",
     "text": [
      "\r",
      " 1/44 [..............................] - ETA: 5s"
     ]
    },
    {
     "name": "stdout",
     "output_type": "stream",
     "text": [
      "\b\b\b\b\b\b\b\b\b\b\b\b\b\b\b\b\b\b\b\b\b\b\b\b\b\b\b\b\b\b\b\b\b\b\b\b\b\b\b\b\b\b\b\b\b\b\b\b\r",
      "27/44 [=================>............] - ETA: 0s"
     ]
    },
    {
     "name": "stdout",
     "output_type": "stream",
     "text": [
      "\b\b\b\b\b\b\b\b\b\b\b\b\b\b\b\b\b\b\b\b\b\b\b\b\b\b\b\b\b\b\b\b\b\b\b\b\b\b\b\b\b\b\b\b\b\b\b\b\r",
      "44/44 [==============================] - 0s 2ms/step\n"
     ]
    },
    {
     "name": "stdout",
     "output_type": "stream",
     "text": [
      "\r",
      " 1/44 [..............................] - ETA: 4s"
     ]
    },
    {
     "name": "stdout",
     "output_type": "stream",
     "text": [
      "\b\b\b\b\b\b\b\b\b\b\b\b\b\b\b\b\b\b\b\b\b\b\b\b\b\b\b\b\b\b\b\b\b\b\b\b\b\b\b\b\b\b\b\b\b\b\b\b\r",
      "28/44 [==================>...........] - ETA: 0s"
     ]
    },
    {
     "name": "stdout",
     "output_type": "stream",
     "text": [
      "\b\b\b\b\b\b\b\b\b\b\b\b\b\b\b\b\b\b\b\b\b\b\b\b\b\b\b\b\b\b\b\b\b\b\b\b\b\b\b\b\b\b\b\b\b\b\b\b\r",
      "44/44 [==============================] - 0s 2ms/step\n"
     ]
    },
    {
     "name": "stdout",
     "output_type": "stream",
     "text": [
      "\r",
      " 1/44 [..............................] - ETA: 5s"
     ]
    },
    {
     "name": "stdout",
     "output_type": "stream",
     "text": [
      "\b\b\b\b\b\b\b\b\b\b\b\b\b\b\b\b\b\b\b\b\b\b\b\b\b\b\b\b\b\b\b\b\b\b\b\b\b\b\b\b\b\b\b\b\b\b\b\b\r",
      "29/44 [==================>...........] - ETA: 0s"
     ]
    },
    {
     "name": "stdout",
     "output_type": "stream",
     "text": [
      "\b\b\b\b\b\b\b\b\b\b\b\b\b\b\b\b\b\b\b\b\b\b\b\b\b\b\b\b\b\b\b\b\b\b\b\b\b\b\b\b\b\b\b\b\b\b\b\b\r",
      "44/44 [==============================] - 0s 2ms/step\n"
     ]
    },
    {
     "name": "stdout",
     "output_type": "stream",
     "text": [
      "\r",
      " 1/44 [..............................] - ETA: 4s"
     ]
    },
    {
     "name": "stdout",
     "output_type": "stream",
     "text": [
      "\b\b\b\b\b\b\b\b\b\b\b\b\b\b\b\b\b\b\b\b\b\b\b\b\b\b\b\b\b\b\b\b\b\b\b\b\b\b\b\b\b\b\b\b\b\b\b\b\r",
      "29/44 [==================>...........] - ETA: 0s"
     ]
    },
    {
     "name": "stdout",
     "output_type": "stream",
     "text": [
      "\b\b\b\b\b\b\b\b\b\b\b\b\b\b\b\b\b\b\b\b\b\b\b\b\b\b\b\b\b\b\b\b\b\b\b\b\b\b\b\b\b\b\b\b\b\b\b\b\r",
      "44/44 [==============================] - 0s 2ms/step\n"
     ]
    },
    {
     "name": "stdout",
     "output_type": "stream",
     "text": [
      "MTL-DNN - Cross-Validation Accuracy: 0.9899\n",
      "MTL-DNN - Cross-Validation MSE: 71227.8495\n"
     ]
    },
    {
     "name": "stdout",
     "output_type": "stream",
     "text": [
      "\r",
      " 1/47 [..............................] - ETA: 1s"
     ]
    },
    {
     "name": "stdout",
     "output_type": "stream",
     "text": [
      "\b\b\b\b\b\b\b\b\b\b\b\b\b\b\b\b\b\b\b\b\b\b\b\b\b\b\b\b\b\b\b\b\b\b\b\b\b\b\b\b\b\b\b\b\b\b\b\b\r",
      "27/47 [================>.............] - ETA: 0s"
     ]
    },
    {
     "name": "stdout",
     "output_type": "stream",
     "text": [
      "\b\b\b\b\b\b\b\b\b\b\b\b\b\b\b\b\b\b\b\b\b\b\b\b\b\b\b\b\b\b\b\b\b\b\b\b\b\b\b\b\b\b\b\b\b\b\b\b\r",
      "47/47 [==============================] - 0s 2ms/step\n"
     ]
    },
    {
     "name": "stdout",
     "output_type": "stream",
     "text": [
      "Evaluating model on holdout set: MTL-DNN\n",
      "MTL-DNN - Binary Accuracy: 0.9913\n",
      "MTL-DNN - Features Prediction MSE: 73215.2875\n",
      "\n",
      "Evaluating model: HPS\n"
     ]
    },
    {
     "name": "stdout",
     "output_type": "stream",
     "text": [
      "\r",
      " 1/44 [..............................] - ETA: 5s"
     ]
    },
    {
     "name": "stdout",
     "output_type": "stream",
     "text": [
      "\b\b\b\b\b\b\b\b\b\b\b\b\b\b\b\b\b\b\b\b\b\b\b\b\b\b\b\b\b\b\b\b\b\b\b\b\b\b\b\b\b\b\b\b\b\b\b\b\r",
      "33/44 [=====================>........] - ETA: 0s"
     ]
    },
    {
     "name": "stdout",
     "output_type": "stream",
     "text": [
      "\b\b\b\b\b\b\b\b\b\b\b\b\b\b\b\b\b\b\b\b\b\b\b\b\b\b\b\b\b\b\b\b\b\b\b\b\b\b\b\b\b\b\b\b\b\b\b\b\r",
      "44/44 [==============================] - 0s 2ms/step\n"
     ]
    },
    {
     "name": "stdout",
     "output_type": "stream",
     "text": [
      "\r",
      " 1/44 [..............................] - ETA: 5s"
     ]
    },
    {
     "name": "stdout",
     "output_type": "stream",
     "text": [
      "\b\b\b\b\b\b\b\b\b\b\b\b\b\b\b\b\b\b\b\b\b\b\b\b\b\b\b\b\b\b\b\b\b\b\b\b\b\b\b\b\b\b\b\b\b\b\b\b\r",
      "14/44 [========>.....................] - ETA: 0s"
     ]
    },
    {
     "name": "stdout",
     "output_type": "stream",
     "text": [
      "\b\b\b\b\b\b\b\b\b\b\b\b\b\b\b\b\b\b\b\b\b\b\b\b\b\b\b\b\b\b\b\b\b\b\b\b\b\b\b\b\b\b\b\b\b\b\b\b\r",
      "39/44 [=========================>....] - ETA: 0s"
     ]
    },
    {
     "name": "stdout",
     "output_type": "stream",
     "text": [
      "\b\b\b\b\b\b\b\b\b\b\b\b\b\b\b\b\b\b\b\b\b\b\b\b\b\b\b\b\b\b\b\b\b\b\b\b\b\b\b\b\b\b\b\b\b\b\b\b\r",
      "44/44 [==============================] - 0s 3ms/step\n"
     ]
    },
    {
     "name": "stdout",
     "output_type": "stream",
     "text": [
      "\r",
      " 1/44 [..............................] - ETA: 4s"
     ]
    },
    {
     "name": "stdout",
     "output_type": "stream",
     "text": [
      "\b\b\b\b\b\b\b\b\b\b\b\b\b\b\b\b\b\b\b\b\b\b\b\b\b\b\b\b\b\b\b\b\b\b\b\b\b\b\b\b\b\b\b\b\b\b\b\b\r",
      "38/44 [========================>.....] - ETA: 0s"
     ]
    },
    {
     "name": "stdout",
     "output_type": "stream",
     "text": [
      "\b\b\b\b\b\b\b\b\b\b\b\b\b\b\b\b\b\b\b\b\b\b\b\b\b\b\b\b\b\b\b\b\b\b\b\b\b\b\b\b\b\b\b\b\b\b\b\b\r",
      "44/44 [==============================] - 0s 2ms/step\n"
     ]
    },
    {
     "name": "stdout",
     "output_type": "stream",
     "text": [
      "\r",
      " 1/44 [..............................] - ETA: 5s"
     ]
    },
    {
     "name": "stdout",
     "output_type": "stream",
     "text": [
      "\b\b\b\b\b\b\b\b\b\b\b\b\b\b\b\b\b\b\b\b\b\b\b\b\b\b\b\b\b\b\b\b\b\b\b\b\b\b\b\b\b\b\b\b\b\b\b\b\r",
      "29/44 [==================>...........] - ETA: 0s"
     ]
    },
    {
     "name": "stdout",
     "output_type": "stream",
     "text": [
      "\b\b\b\b\b\b\b\b\b\b\b\b\b\b\b\b\b\b\b\b\b\b\b\b\b\b\b\b\b\b\b\b\b\b\b\b\b\b\b\b\b\b\b\b\b\b\b\b\r",
      "44/44 [==============================] - 0s 2ms/step\n"
     ]
    },
    {
     "name": "stdout",
     "output_type": "stream",
     "text": [
      "\r",
      " 1/44 [..............................] - ETA: 4s"
     ]
    },
    {
     "name": "stdout",
     "output_type": "stream",
     "text": [
      "\b\b\b\b\b\b\b\b\b\b\b\b\b\b\b\b\b\b\b\b\b\b\b\b\b\b\b\b\b\b\b\b\b\b\b\b\b\b\b\b\b\b\b\b\b\b\b\b\r",
      "32/44 [====================>.........] - ETA: 0s"
     ]
    },
    {
     "name": "stdout",
     "output_type": "stream",
     "text": [
      "\b\b\b\b\b\b\b\b\b\b\b\b\b\b\b\b\b\b\b\b\b\b\b\b\b\b\b\b\b\b\b\b\b\b\b\b\b\b\b\b\b\b\b\b\b\b\b\b\r",
      "44/44 [==============================] - 0s 2ms/step\n"
     ]
    },
    {
     "name": "stdout",
     "output_type": "stream",
     "text": [
      "HPS - Cross-Validation Accuracy: 0.9899\n",
      "HPS - Cross-Validation MSE: 70592.4558\n",
      "\r",
      " 1/47 [..............................] - ETA: 1s"
     ]
    },
    {
     "name": "stdout",
     "output_type": "stream",
     "text": [
      "\b\b\b\b\b\b\b\b\b\b\b\b\b\b\b\b\b\b\b\b\b\b\b\b\b\b\b\b\b\b\b\b\b\b\b\b\b\b\b\b\b\b\b\b\b\b\b\b\r",
      "33/47 [====================>.........] - ETA: 0s"
     ]
    },
    {
     "name": "stdout",
     "output_type": "stream",
     "text": [
      "\b\b\b\b\b\b\b\b\b\b\b\b\b\b\b\b\b\b\b\b\b\b\b\b\b\b\b\b\b\b\b\b\b\b\b\b\b\b\b\b\b\b\b\b\b\b\b\b\r",
      "47/47 [==============================] - 0s 2ms/step\n"
     ]
    },
    {
     "name": "stdout",
     "output_type": "stream",
     "text": [
      "Evaluating model on holdout set: HPS\n",
      "HPS - Binary Accuracy: 0.9913\n",
      "HPS - Features Prediction MSE: 72960.4803\n"
     ]
    },
    {
     "data": {
      "image/png": "[encoded data removed]",
      "text/plain": [
       "<Figure size 1500x600 with 2 Axes>"
      ]
     },
     "metadata": {},
     "output_type": "display_data"
    },
    {
     "data": {
      "image/png": "[encoded data removed]",
      "text/plain": [
       "<Figure size 1500x600 with 2 Axes>"
      ]
     },
     "metadata": {},
     "output_type": "display_data"
    }
   ],
   "source": [
    "import numpy as np\n",
    "import pandas as pd\n",
    "import tensorflow as tf\n",
    "from tensorflow.keras.layers import Input, Dense, Dropout, Concatenate, Attention\n",
    "from tensorflow.keras.models import Model\n",
    "from sklearn.model_selection import train_test_split, KFold\n",
    "from sklearn.preprocessing import StandardScaler\n",
    "from sklearn.metrics import mean_squared_error, accuracy_score, confusion_matrix, classification_report\n",
    "import matplotlib.pyplot as plt\n",
    "import seaborn as sns\n",
    "\n",
    "# Set random seed for reproducibility\n",
    "np.random.seed(42)\n",
    "\n",
    "# Generate synthetic dataset\n",
    "n_samples = 10000\n",
    "\n",
    "# Generate ovd_days (overdue days)\n",
    "ovd_days = np.random.randint(0, 120, size=n_samples)\n",
    "\n",
    "# Generate overdue amount based on ovd_days (overdue)\n",
    "ovd_amount = np.where(ovd_days > 0, np.random.uniform(100, 1000, size=n_samples), 0)\n",
    "\n",
    "# Define the target variable 'default' with imbalance (less than 1% default)\n",
    "default = np.where(np.random.rand(n_samples) < 0.01, 1, 0)\n",
    "\n",
    "# Generate additional 16 features (e.g., income, age, credit score, etc.)\n",
    "additional_features = {\n",
    "    f'feature_{i}': np.random.uniform(0, 1, size=n_samples)\n",
    "    for i in range(1, 17)\n",
    "}\n",
    "\n",
    "# Create a DataFrame\n",
    "data = pd.DataFrame({\n",
    "    'ovd_days': ovd_days,\n",
    "    'ovd_amount': ovd_amount,\n",
    "    'default': default\n",
    "})\n",
    "\n",
    "# Add additional features to the DataFrame\n",
    "for feature_name, values in additional_features.items():\n",
    "    data[feature_name] = values\n",
    "\n",
    "# Data exploration and sanity check\n",
    "print(data.describe())\n",
    "print(data.isnull().sum())\n",
    "print(\"Class distribution for 'default':\")\n",
    "print(data['default'].value_counts(normalize=True))\n",
    "\n",
    "# Plot class imbalance\n",
    "sns.countplot(data['default'])\n",
    "plt.title('Class Distribution of Default')\n",
    "plt.show()\n",
    "\n",
    "# Separate features and targets\n",
    "X = data.drop(columns=['ovd_amount', 'default'])\n",
    "y_classification = data['default']\n",
    "y_regression = data['ovd_amount']\n",
    "\n",
    "# Split the data into training, test, and holdout sets\n",
    "X_train, X_temp, y_train_class, y_temp_class, y_train_reg, y_temp_reg = train_test_split(\n",
    "    X, y_classification, y_regression, test_size=0.3, random_state=42\n",
    ")\n",
    "X_test, X_holdout, y_test_class, y_holdout_class, y_test_reg, y_holdout_reg = train_test_split(\n",
    "    X_temp, y_temp_class, y_temp_reg, test_size=0.5, random_state=42\n",
    ")\n",
    "\n",
    "# Scale the features\n",
    "scaler = StandardScaler()\n",
    "X_train_scaled = scaler.fit_transform(X_train)\n",
    "X_test_scaled = scaler.transform(X_test)\n",
    "X_holdout_scaled = scaler.transform(X_holdout)\n",
    "\n",
    "# Define function to create model architectures\n",
    "def create_model(model_type):\n",
    "    input_layer = Input(shape=(X_train_scaled.shape[1],))\n",
    "    shared = Dense(64, activation='relu')(input_layer)\n",
    "    shared = Dropout(0.3)(shared)\n",
    "    \n",
    "    if model_type == 'MTAN':\n",
    "        # MTAN model architecture with attention mechanism\n",
    "        attention = Attention()([shared, shared])\n",
    "        shared = Concatenate()([shared, attention])\n",
    "        classification_branch = Dense(16, activation='relu')(shared)\n",
    "        classification_output = Dense(1, activation='sigmoid', name='classification_output')(classification_branch)\n",
    "        regression_branch = Dense(16, activation='relu')(shared)\n",
    "        regression_output = Dense(1, activation='linear', name='regression_output')(regression_branch)\n",
    "    elif model_type == 'Cross-Stitch':\n",
    "        # Cross-Stitch model architecture\n",
    "        cross_stitch_layer = Dense(32, activation='relu')(shared)\n",
    "        classification_branch = Dense(32, activation='relu')(cross_stitch_layer)\n",
    "        classification_output = Dense(1, activation='sigmoid', name='classification_output')(classification_branch)\n",
    "        regression_branch = Dense(32, activation='relu')(cross_stitch_layer)\n",
    "        regression_output = Dense(1, activation='linear', name='regression_output')(regression_branch)\n",
    "    elif model_type == 'MTL-DNN':\n",
    "        # MTL-DNN model architecture with deeper layers\n",
    "        shared = Dense(128, activation='relu')(shared)\n",
    "        classification_branch = Dense(64, activation='relu')(shared)\n",
    "        classification_output = Dense(1, activation='sigmoid', name='classification_output')(classification_branch)\n",
    "        regression_branch = Dense(64, activation='relu')(shared)\n",
    "        regression_output = Dense(1, activation='linear', name='regression_output')(regression_branch)\n",
    "    elif model_type == 'HPS':\n",
    "        # HPS model architecture (hard parameter sharing)\n",
    "        classification_branch = Dense(16, activation='relu')(shared)\n",
    "        classification_output = Dense(1, activation='sigmoid', name='classification_output')(classification_branch)\n",
    "        regression_branch = Dense(16, activation='relu')(shared)\n",
    "        regression_output = Dense(1, activation='linear', name='regression_output')(regression_branch)\n",
    "    \n",
    "    model = Model(inputs=input_layer, outputs=[classification_output, regression_output])\n",
    "    model.compile(\n",
    "        optimizer='adam',\n",
    "        loss={'classification_output': 'binary_crossentropy', 'regression_output': 'mse'},\n",
    "        metrics={'classification_output': 'accuracy', 'regression_output': 'mae'}\n",
    "    )\n",
    "    return model\n",
    "\n",
    "# Define model types\n",
    "model_types = ['MTAN', 'Cross-Stitch', 'MTL-DNN', 'HPS']\n",
    "\n",
    "# Perform cross-validation and evaluate models\n",
    "kf = KFold(n_splits=5, shuffle=True, random_state=42)\n",
    "\n",
    "results = []\n",
    "\n",
    "for model_type in model_types:\n",
    "    print(f\"\\nEvaluating model: {model_type}\")\n",
    "    fold_accuracies = []\n",
    "    fold_mses = []\n",
    "    \n",
    "    for train_index, val_index in kf.split(X_train_scaled):\n",
    "        X_fold_train, X_fold_val = X_train_scaled[train_index], X_train_scaled[val_index]\n",
    "        y_fold_train_class, y_fold_val_class = y_train_class.iloc[train_index], y_train_class.iloc[val_index]\n",
    "        y_fold_train_reg, y_fold_val_reg = y_train_reg.iloc[train_index], y_train_reg.iloc[val_index]\n",
    "        \n",
    "        # Create and train the model\n",
    "        model = create_model(model_type)\n",
    "        model.fit(\n",
    "            X_fold_train,\n",
    "            {'classification_output': y_fold_train_class, 'regression_output': y_fold_train_reg},\n",
    "            validation_data=(X_fold_val, {'classification_output': y_fold_val_class, 'regression_output': y_fold_val_reg}),\n",
    "            epochs=10,\n",
    "            batch_size=32,\n",
    "            verbose=0\n",
    "        )\n",
    "        \n",
    "        # Evaluate on validation set\n",
    "        val_preds = model.predict(X_fold_val)\n",
    "        val_class_preds = (val_preds[0] > 0.5).astype(int).flatten()\n",
    "        val_reg_preds = val_preds[1].flatten()\n",
    "        \n",
    "        accuracy = accuracy_score(y_fold_val_class, val_class_preds)\n",
    "        mse = mean_squared_error(y_fold_val_reg, val_reg_preds)\n",
    "        fold_accuracies.append(accuracy)\n",
    "        fold_mses.append(mse)\n",
    "    \n",
    "    avg_accuracy = np.mean(fold_accuracies)\n",
    "    avg_mse = np.mean(fold_mses)\n",
    "    results.append({'Model': model_type, 'Accuracy': avg_accuracy, 'MSE': avg_mse})\n",
    "    print(f\"{model_type} - Cross-Validation Accuracy: {avg_accuracy:.4f}\")\n",
    "    print(f\"{model_type} - Cross-Validation MSE: {avg_mse:.4f}\")\n",
    "    \n",
    "    # Evaluate on holdout set\n",
    "    holdout_preds = model.predict(X_holdout_scaled)\n",
    "    holdout_class_preds = (holdout_preds[0] > 0.5).astype(int).flatten()\n",
    "    holdout_reg_preds = holdout_preds[1].flatten()\n",
    "    \n",
    "    holdout_accuracy = accuracy_score(y_holdout_class, holdout_class_preds)\n",
    "    holdout_mse = mean_squared_error(y_holdout_reg, holdout_reg_preds)\n",
    "    results[-1]['Holdout_Accuracy'] = holdout_accuracy\n",
    "    results[-1]['Holdout_MSE'] = holdout_mse\n",
    "    print(f\"Evaluating model on holdout set: {model_type}\")\n",
    "    print(f\"{model_type} - Binary Accuracy: {holdout_accuracy:.4f}\")\n",
    "    print(f\"{model_type} - Features Prediction MSE: {holdout_mse:.4f}\")\n",
    "\n",
    "# Convert results to DataFrame and plot for easy comparison\n",
    "results_df = pd.DataFrame(results)\n",
    "\n",
    "# Plot model comparison\n",
    "fig, axes = plt.subplots(1, 2, figsize=(15, 6))\n",
    "sns.barplot(x='Model', y='Accuracy', data=results_df, ax=axes[0])\n",
    "axes[0].set_title('Model Comparison - Cross-Validation Accuracy')\n",
    "axes[0].set_ylim(0.95, 1.0)\n",
    "sns.barplot(x='Model', y='MSE', data=results_df, ax=axes[1])\n",
    "axes[1].set_title('Model Comparison - Cross-Validation MSE')\n",
    "plt.tight_layout()\n",
    "plt.show()\n",
    "\n",
    "# Holdout set performance\n",
    "fig, axes = plt.subplots(1, 2, figsize=(15, 6))\n",
    "sns.barplot(x='Model', y='Holdout_Accuracy', data=results_df, ax=axes[0])\n",
    "axes[0].set_title('Model Comparison - Holdout Accuracy')\n",
    "axes[0].set_ylim(0.95, 1.0)\n",
    "sns.barplot(x='Model', y='Holdout_MSE', data=results_df, ax=axes[1])\n",
    "axes[1].set_title('Model Comparison - Holdout MSE')\n",
    "plt.tight_layout()\n",
    "plt.show()\n"
   ]
  },
  {
   "cell_type": "code",
   "execution_count": null,
   "id": "e6c5279f-b1f9-408b-af1e-67ecd9098e2b",
   "metadata": {},
   "outputs": [],
   "source": []
  }
 ],
 "metadata": {
  "kernelspec": {
   "display_name": "Python 3 (ipykernel)",
   "language": "python",
   "name": "python3"
  },
  "language_info": {
   "codemirror_mode": {
    "name": "ipython",
    "version": 3
   },
   "file_extension": ".py",
   "mimetype": "text/x-python",
   "name": "python",
   "nbconvert_exporter": "python",
   "pygments_lexer": "ipython3",
   "version": "3.10.13"
  }
 },
 "nbformat": 4,
 "nbformat_minor": 5
}