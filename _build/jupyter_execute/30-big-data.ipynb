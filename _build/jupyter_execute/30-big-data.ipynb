{
 "cells": [
  {
   "cell_type": "markdown",
   "id": "6b3a22fb",
   "metadata": {},
   "source": [
    "# Dealing with Big Data\n",
    "\n",
    "Big data is more than just large datasets; it's a revolution that challenges the way we think about data processing, storage, and analysis. Big data allows us to capture patterns, trends, and insights that were previously invisible, thereby enabling data-driven decision-making in industries ranging from healthcare to finance to entertainment. However, handling big data isn't easy; it presents a myriad of challenges involving storage, scalability, data processing, and even ethical concerns. In this section, we will explore strategies and technologies for handling big data efficiently.\n",
    "\n",
    "## What is Big Data?\n",
    "\n",
    "Big data refers to datasets that are so large and complex that traditional data processing tools become insufficient to handle them. The concept is often defined using the **3Vs**:\n",
    "\n",
    "1. **Volume**: The sheer size of the data being generated and stored.\n",
    "2. **Velocity**: The speed at which the data is generated and processed.\n",
    "3. **Variety**: The different forms and sources of data, including structured, unstructured, and semi-structured data.\n",
    "\n",
    "Other important characteristics of big data also include **Veracity** (quality of the data) and **Value** (insights derived from data).\n",
    "\n",
    "To handle big data effectively, we need tools and strategies that scale with its growth, can process and analyze it efficiently, and can provide real-time insights. Let’s dive into a variety of these strategies with real-life examples, use cases, and interactive elements.\n",
    "\n",
    "![Big Data Concept Illustration](pictures/big-data-cloud.webp)\n",
    "\n",
    "**Figure 1: Big Data Concept Illustration** - This illustration visualizes the interconnectedness of big data's 5Vs: Volume, Velocity, Variety, Veracity, and Value, demonstrating the complexity and the flow of vast information in a connected network.\n",
    "\n",
    "## Strategies to Deal with Big Data\n",
    "\n",
    "### 1. Distributed Computing\n",
    "When dealing with big data, it's important to spread the load across multiple machines, also known as distributed computing. Instead of processing a large dataset on a single machine, tools like **Apache Hadoop** and **Apache Spark** split the data into manageable chunks that can be processed concurrently on multiple nodes. This reduces processing time significantly.\n",
    "\n",
    "#### Hadoop and MapReduce\n",
    "**Hadoop** is a distributed computing framework that uses the **MapReduce** paradigm to break down complex operations into smaller sub-tasks that can be distributed across multiple nodes. Here, the **Map** phase processes key-value pairs to generate intermediate results, and the **Reduce** phase aggregates these results."
   ]
  },
  {
   "cell_type": "code",
   "execution_count": 1,
   "id": "5079588e",
   "metadata": {},
   "outputs": [
    {
     "ename": "ModuleNotFoundError",
     "evalue": "No module named 'mrjob'",
     "output_type": "error",
     "traceback": [
      "\u001b[1;31m---------------------------------------------------------------------------\u001b[0m",
      "\u001b[1;31mModuleNotFoundError\u001b[0m                       Traceback (most recent call last)",
      "Cell \u001b[1;32mIn[1], line 1\u001b[0m\n\u001b[1;32m----> 1\u001b[0m \u001b[38;5;28;01mfrom\u001b[39;00m \u001b[38;5;21;01mmrjob\u001b[39;00m\u001b[38;5;21;01m.\u001b[39;00m\u001b[38;5;21;01mjob\u001b[39;00m \u001b[38;5;28;01mimport\u001b[39;00m MRJob\n\u001b[0;32m      3\u001b[0m \u001b[38;5;28;01mclass\u001b[39;00m \u001b[38;5;21;01mMRWordCount\u001b[39;00m(MRJob):\n\u001b[0;32m      4\u001b[0m     \u001b[38;5;28;01mdef\u001b[39;00m \u001b[38;5;21mmapper\u001b[39m(\u001b[38;5;28mself\u001b[39m, _, line):\n\u001b[0;32m      5\u001b[0m         \u001b[38;5;66;03m# Split each line into words and emit (word, 1) for each word\u001b[39;00m\n",
      "\u001b[1;31mModuleNotFoundError\u001b[0m: No module named 'mrjob'"
     ]
    }
   ],
   "source": [
    "from mrjob.job import MRJob\n",
    "\n",
    "class MRWordCount(MRJob):\n",
    "    def mapper(self, _, line):\n",
    "        # Split each line into words and emit (word, 1) for each word\n",
    "        for word in line.split():\n",
    "            yield (word.lower(), 1)\n",
    "\n",
    "    def reducer(self, key, values):\n",
    "        # Sum the values for each word\n",
    "        yield (key, sum(values))\n",
    "\n",
    "if __name__ == '__main__':\n",
    "    MRWordCount.run()"
   ]
  },
  {
   "cell_type": "markdown",
   "id": "1bc0dfb7",
   "metadata": {},
   "source": [
    "| Step          | Description                                      |\n",
    "|---------------|--------------------------------------------------|\n",
    "| **Map**       | Splits data into key-value pairs                 |\n",
    "| **Shuffle**   | Redistributes data based on key values           |\n",
    "| **Reduce**    | Aggregates the data for final output             |\n",
    "\n",
    "### Spark and Resilient Distributed Datasets (RDDs)\n",
    "**Apache Spark** is another distributed computing framework that has gained immense popularity. Unlike Hadoop, which relies on disk I/O for every operation, Spark keeps the data in memory (in the form of **Resilient Distributed Datasets**, or RDDs), making it far faster than Hadoop."
   ]
  },
  {
   "cell_type": "code",
   "execution_count": null,
   "id": "21435bbf",
   "metadata": {},
   "outputs": [],
   "source": [
    "# Using PySpark for distributed data processing\n",
    "from pyspark.sql import SparkSession\n",
    "\n",
    "# Initialize a Spark session\n",
    "spark = SparkSession.builder.appName(\"BigDataExample\").getOrCreate()\n",
    "\n",
    "# Load a CSV dataset into a DataFrame\n",
    "df = spark.read.csv(\"hdfs://path_to_large_dataset.csv\", header=True, inferSchema=True)\n",
    "\n",
    "# Perform some distributed computations\n",
    "result = df.groupBy(\"category\").count()\n",
    "result.show()"
   ]
  },
  {
   "cell_type": "markdown",
   "id": "2bda18b3",
   "metadata": {},
   "source": [
    "| Feature               | Hadoop MapReduce         | Apache Spark           |\n",
    "|-----------------------|--------------------------|------------------------|\n",
    "| **Processing Speed**  | Slow (Disk-Based I/O)    | Fast (In-Memory)       |\n",
    "| **Ease of Use**       | Complex                  | User-Friendly          |\n",
    "| **Data Storage**      | HDFS                     | In-Memory RDD          |\n",
    "\n",
    "### 2. Data Partitioning and Storage Solutions\n",
    "\n",
    "Handling big data also requires efficient storage strategies. Cloud storage platforms like **Amazon S3**, **Google Cloud Storage**, and **Azure Blob Storage** allow for scalable storage. Data partitioning is also a common technique, where large datasets are split into smaller, more manageable parts.\n",
    "\n",
    "#### Parquet and ORC File Formats\n",
    "For better storage efficiency, **Parquet** and **ORC** file formats are used to store data in a columnar fashion. These formats help in minimizing I/O operations and reducing storage footprint, making queries more efficient."
   ]
  },
  {
   "cell_type": "code",
   "execution_count": null,
   "id": "5881478f",
   "metadata": {},
   "outputs": [],
   "source": [
    "# Saving DataFrame in Parquet format\n",
    "output_path = \"hdfs://path_to_output_directory\"\n",
    "df.write.parquet(output_path)"
   ]
  },
  {
   "cell_type": "markdown",
   "id": "4b07f04c",
   "metadata": {},
   "source": [
    "| Format   | Description                                     | Use Case                                |\n",
    "|----------|-------------------------------------------------|-----------------------------------------|\n",
    "| **Parquet** | Columnar storage, optimized for analytical queries | Data analytics and machine learning     |\n",
    "| **ORC**     | Highly efficient compression and storage      | Hadoop ecosystem and data warehousing   |\n",
    "\n",
    "### 3. Batch vs Real-Time Processing\n",
    "\n",
    "Big data often needs different approaches based on processing requirements:\n",
    "\n",
    "- **Batch Processing**: Used for large-scale analytics that doesn't require real-time processing. Hadoop is commonly used for this purpose.\n",
    "- **Real-Time Processing**: Used when immediate action is needed, e.g., in fraud detection. Tools like **Apache Kafka** and **Apache Flink** provide real-time data pipelines that enable streaming data analysis.\n",
    "\n",
    "#### Real-Time Analytics with Kafka and Spark Streaming\n",
    "\n",
    "Real-time processing enables real-time data ingestion, transformation, and analysis. One popular approach is using **Apache Kafka** for ingesting streams of data and **Apache Spark Streaming** for real-time analysis."
   ]
  },
  {
   "cell_type": "code",
   "execution_count": null,
   "id": "896abce5",
   "metadata": {},
   "outputs": [],
   "source": [
    "from pyspark.sql import SparkSession\n",
    "from pyspark.streaming import StreamingContext\n",
    "\n",
    "# Spark session for real-time processing\n",
    "spark = SparkSession.builder.appName(\"RealTimeAnalytics\").getOrCreate()\n",
    "ssc = StreamingContext(spark.sparkContext, 10)  # 10-second batch intervals\n",
    "\n",
    "# Stream data from Kafka\n",
    "data_stream = ssc.socketTextStream(\"localhost\", 9092)\n",
    "\n",
    "# Process the data in real time\n",
    "def process_data(time, rdd):\n",
    "    print(f\"Processing batch at {time}\")\n",
    "    print(rdd.collect())\n",
    "\n",
    "data_stream.foreachRDD(process_data)\n",
    "\n",
    "ssc.start()\n",
    "ssc.awaitTermination()"
   ]
  },
  {
   "cell_type": "markdown",
   "id": "ce941f81",
   "metadata": {},
   "source": [
    "| Component         | Description                                  |\n",
    "|-------------------|----------------------------------------------|\n",
    "| **Kafka**         | Message broker for real-time data ingestion  |\n",
    "| **Spark Streaming** | Real-time computation framework            |\n",
    "\n",
    "### 4. Data Reduction Techniques\n",
    "\n",
    "Big data can be overwhelming, especially if your infrastructure is unable to keep up with the scale of processing required. Here, data reduction techniques like **sampling** and **dimensionality reduction** become crucial.\n",
    "\n",
    "#### Sampling Data\n",
    "**Sampling** is a data reduction technique used when the dataset is simply too large to process in its entirety. By extracting representative samples, you can gain insights without processing the entire dataset.\n",
    "\n",
    "#### Dimensionality Reduction with PCA\n",
    "**Principal Component Analysis (PCA)** is often used for dimensionality reduction to reduce the number of features in a dataset while maintaining its variability."
   ]
  },
  {
   "cell_type": "code",
   "execution_count": null,
   "id": "e3966125",
   "metadata": {},
   "outputs": [],
   "source": [
    "from sklearn.decomposition import PCA\n",
    "from sklearn.datasets import make_classification\n",
    "\n",
    "# Create a large synthetic dataset\n",
    "X, _ = make_classification(n_samples=100000, n_features=50)\n",
    "\n",
    "# Apply PCA to reduce the number of features to 10\n",
    "pca = PCA(n_components=10)\n",
    "X_reduced = pca.fit_transform(X)"
   ]
  },
  {
   "cell_type": "markdown",
   "id": "d7a14c2f",
   "metadata": {},
   "source": [
    "| Technique            | Description                                | Use Case                   |\n",
    "|----------------------|--------------------------------------------|----------------------------|\n",
    "| **Sampling**         | Extract representative data samples        | Exploratory data analysis  |\n",
    "| **PCA**              | Reduce dimensionality of data              | Machine learning, clustering|\n",
    "\n",
    "### 5. Machine Learning with Big Data\n",
    "\n",
    "Big data also opens doors for more complex **machine learning** models that can derive insights and predict future trends. However, training models on huge datasets can be extremely challenging. Here are some strategies to make machine learning feasible:\n",
    "\n",
    "#### Stochastic Gradient Descent (SGD) for Large Datasets\n",
    "Traditional gradient descent requires the entire dataset in memory, which is impractical for big data. Instead, **Stochastic Gradient Descent (SGD)** and **Mini-batch Gradient Descent** can be used."
   ]
  },
  {
   "cell_type": "code",
   "execution_count": null,
   "id": "f246c568",
   "metadata": {},
   "outputs": [],
   "source": [
    "import numpy as np\n",
    "\n",
    "# Simulated dataset\n",
    "X = np.random.randn(1000000, 10)\n",
    "y = np.random.randn(1000000, 1)\n",
    "\n",
    "mini_batch_size = 1000\n",
    "learning_rate = 0.01\n",
    "\n",
    "# Training loop using mini-batch gradient descent\n",
    "for epoch in range(10):  # Number of epochs\n",
    "    for i in range(0, X.shape[0], mini_batch_size):\n",
    "        X_mini = X[i:i + mini_batch_size]\n",
    "        y_mini = y[i:i + mini_batch_size]\n",
    "        # Calculate gradient and update weights\n",
    "        # weight_update = -learning_rate * gradient(X_mini, y_mini)"
   ]
  },
  {
   "cell_type": "markdown",
   "id": "36217826",
   "metadata": {},
   "source": [
    "### 6. Model Parallelism and Distributed Training\n",
    "\n",
    "When working with very large models, such as **Deep Learning** models, distributing model training across multiple GPUs is often required to speed up the training process."
   ]
  },
  {
   "cell_type": "code",
   "execution_count": null,
   "id": "538dd11c",
   "metadata": {},
   "outputs": [],
   "source": [
    "import torch\n",
    "import torch.nn as nn\n",
    "\n",
    "# Example: Defining a model and splitting it across multiple GPUs\n",
    "class LargeModel(nn.Module):\n",
    "    def __init__(self):\n",
    "        super(LargeModel, self).__init__()\n",
    "        self.layer1 = nn.Linear(1000, 500).to('cuda:0')  # Place on GPU 0\n",
    "        self.layer2 = nn.Linear(500, 100).to('cuda:1')   # Place on GPU 1\n",
    "\n",
    "    def forward(self, x):\n",
    "        x = self.layer1(x.to('cuda:0'))\n",
    "        x = self.layer2(x.to('cuda:1'))\n",
    "        return x\n",
    "\n",
    "model = LargeModel()"
   ]
  },
  {
   "cell_type": "markdown",
   "id": "68f73f0d",
   "metadata": {},
   "source": [
    "### 7. Cloud Computing for Big Data\n",
    "\n",
    "Cloud computing platforms such as **AWS**, **Google Cloud**, and **Microsoft Azure** offer scalable and cost-efficient solutions for managing and analyzing big data. They provide a wide range of services including distributed databases, data storage, analytics, and machine learning tools.\n",
    "\n",
    "#### AWS Example - Amazon Redshift\n",
    "**Amazon Redshift** is a cloud-based data warehouse that allows users to run complex SQL queries on large datasets efficiently.\n",
    "\n",
    "```sql\n",
    "-- SQL Query to analyze sales data in Redshift\n",
    "SELECT product_id, SUM(sales) AS total_sales\n",
    "FROM sales_data\n",
    "GROUP BY product_id\n",
    "ORDER BY total_sales DESC;\n",
    "```\n",
    "\n",
    "\n",
    "| Service           | Description                                   | Use Case                          |\n",
    "|-------------------|-----------------------------------------------|-----------------------------------|\n",
    "| **AWS Redshift**  | Scalable data warehousing and SQL analytics   | Business intelligence, reporting  |\n",
    "| **Google BigQuery** | Serverless data warehouse for big data      | Ad-hoc querying, data exploration |\n",
    "\n",
    "### 8. Graph-Based Data Models for Complex Relationships\n",
    "\n",
    "Sometimes the relationships in big data are so intricate that a traditional table-based structure doesn't suffice. **Graph databases** like **Neo4j** allow us to store data in graph structures, making it easier to traverse relationships and perform complex queries."
   ]
  },
  {
   "cell_type": "code",
   "execution_count": null,
   "id": "2f54cfd3",
   "metadata": {},
   "outputs": [],
   "source": [
    "from py2neo import Graph\n",
    "\n",
    "# Connect to Neo4j graph database\n",
    "graph = Graph(\"bolt://localhost:7687\", auth=(\"neo4j\", \"password\"))\n",
    "\n",
    "# Create a new node in the graph\n",
    "graph.run(\"CREATE (p:Person {name: 'John Doe', age: 29})\")\n",
    "\n",
    "# Query to find all people older than 25\n",
    "result = graph.run(\"MATCH (p:Person) WHERE p.age > 25 RETURN p.name, p.age\")\n",
    "for record in result:\n",
    "    print(record)"
   ]
  },
  {
   "cell_type": "markdown",
   "id": "dc59476a",
   "metadata": {},
   "source": [
    "| Component         | Description                                      | Use Case                        |\n",
    "|-------------------|--------------------------------------------------|---------------------------------|\n",
    "| **Node**          | Represents an entity (e.g., Person, Product)     | Social networks, recommendations|\n",
    "| **Relationship**  | Describes the connection between nodes          | Fraud detection, link analysis  |\n",
    "\n",
    "### 9. Handling Unstructured Data\n",
    "\n",
    "Big data isn’t always neat. Often, it includes **unstructured data** from sources like social media, images, and sensor readings. Tools like **Elasticsearch** and **Apache Solr** can be used to index and search unstructured data effectively."
   ]
  },
  {
   "cell_type": "code",
   "execution_count": null,
   "id": "bdf4b6a5",
   "metadata": {},
   "outputs": [],
   "source": [
    "from elasticsearch import Elasticsearch\n",
    "\n",
    "# Connect to Elasticsearch\n",
    "es = Elasticsearch([\"http://localhost:9200\"])\n",
    "\n",
    "# Index a document\n",
    "doc = {\n",
    "    \"author\": \"Mike\",\n",
    "    \"text\": \"This is a sample document\",\n",
    "    \"timestamp\": \"2024-01-01\"\n",
    "}\n",
    "es.index(index=\"sample_index\", id=1, document=doc)\n",
    "\n",
    "# Search for documents\n",
    "docs = es.search(index=\"sample_index\", query={\"match\": {\"author\": \"Mike\"}})\n",
    "print(docs)"
   ]
  },
  {
   "cell_type": "markdown",
   "id": "b89b1dd8",
   "metadata": {},
   "source": [
    "| Tool               | Description                                      | Use Case                        |\n",
    "|--------------------|--------------------------------------------------|---------------------------------|\n",
    "| **Elasticsearch**  | Full-text search and analytics engine            | Log analysis, e-commerce search |\n",
    "| **Apache Solr**    | Open-source search platform                      | Website search, data indexing   |\n",
    "\n",
    "### 10. Ethical Considerations and Data Governance\n",
    "\n",
    "Big data also brings with it ethical concerns regarding **privacy**, **security**, and **data ownership**. Ensuring data privacy is crucial, especially when dealing with personally identifiable information (PII). Regulatory frameworks like **GDPR** and **CCPA** have been established to ensure ethical handling of data.\n",
    "\n",
    "**Table: Ethical Considerations in Big Data**\n",
    "\n",
    "| Concern                | Description                                      | Regulation                      |\n",
    "|------------------------|--------------------------------------------------|---------------------------------|\n",
    "| **Privacy**            | Protection of personal information               | GDPR, CCPA                      |\n",
    "| **Security**           | Measures to safeguard data                       | Encryption, access controls     |\n",
    "| **Data Ownership**     | Rights over data collection and usage            | Consent-based data collection   |"
   ]
  }
 ],
 "metadata": {
  "jupytext": {
   "formats": "md:myst",
   "text_representation": {
    "extension": ".md",
    "format_name": "myst"
   }
  },
  "kernelspec": {
   "display_name": "Python 3",
   "language": "python",
   "name": "python3"
  },
  "language_info": {
   "codemirror_mode": {
    "name": "ipython",
    "version": 3
   },
   "file_extension": ".py",
   "mimetype": "text/x-python",
   "name": "python",
   "nbconvert_exporter": "python",
   "pygments_lexer": "ipython3",
   "version": "3.10.13"
  },
  "source_map": [
   11,
   41,
   56,
   68,
   81,
   97,
   101,
   119,
   139,
   157,
   167,
   182,
   199,
   205,
   222,
   249,
   262,
   274,
   291
  ]
 },
 "nbformat": 4,
 "nbformat_minor": 5
}