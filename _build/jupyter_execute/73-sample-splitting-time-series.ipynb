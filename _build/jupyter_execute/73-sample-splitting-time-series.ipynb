{
 "cells": [
  {
   "cell_type": "markdown",
   "id": "49e64f5f-1564-44d6-b009-f7bd7f4d02af",
   "metadata": {},
   "source": [
    "# Split Samples in Time Series\n",
    "1. Simulated Dataset:\n",
    " * We generate 100 customers, each with data over 24 months.\n",
    " * The dataset includes two random features (feature_1 and feature_2), and a binary default outcome, with a default rate of 20%.\n",
    "2. Rolling-Window Cross-Validation (recommended for R&D):\n",
    " * We use TimeSeriesSplit from sklearn.model_selection, which ensures that earlier months are used for training and later months for testing.\n",
    " * The training and testing sets \"roll\" forward as you move through the data.\n",
    "3. Expanding Window Cross-Validation (for production purpose):\n",
    " * In the expanding window approach, the training set grows as more data becomes available.\n",
    " * We define a function expanding_window_split that expands the training set window while testing on the next available step.\n",
    "4. Model:\n",
    " * We use a RandomForestClassifier for demonstration, though you can replace this with any model.\n",
    "5. Accuracy Calculation:\n",
    " * The accuracy of the model for each fold is printed out for both rolling-window and expanding window cross-validation."
   ]
  },
  {
   "cell_type": "code",
   "execution_count": 1,
   "id": "29eb8175-b1aa-4516-a786-78822ced9156",
   "metadata": {},
   "outputs": [
    {
     "name": "stdout",
     "output_type": "stream",
     "text": [
      "Rolling-Window Cross-Validation:\n",
      "Fold 1 Accuracy: 0.7400\n"
     ]
    },
    {
     "name": "stdout",
     "output_type": "stream",
     "text": [
      "Fold 2 Accuracy: 0.7250\n"
     ]
    },
    {
     "name": "stdout",
     "output_type": "stream",
     "text": [
      "Fold 3 Accuracy: 0.7600\n"
     ]
    },
    {
     "name": "stdout",
     "output_type": "stream",
     "text": [
      "Fold 4 Accuracy: 0.7950\n"
     ]
    },
    {
     "name": "stdout",
     "output_type": "stream",
     "text": [
      "Fold 5 Accuracy: 0.7600\n",
      "End\n"
     ]
    }
   ],
   "source": [
    "import pandas as pd\n",
    "import numpy as np\n",
    "from sklearn.model_selection import TimeSeriesSplit\n",
    "from sklearn.ensemble import RandomForestClassifier\n",
    "from sklearn.metrics import accuracy_score\n",
    "\n",
    "# Simulate example dataset\n",
    "np.random.seed(42)\n",
    "\n",
    "# Parameters for the simulation\n",
    "n_customers = 100\n",
    "n_months = 24\n",
    "\n",
    "# Create a DataFrame for customers across months\n",
    "customer_ids = np.repeat(np.arange(1, n_customers + 1), n_months)\n",
    "months = np.tile(np.arange(1, n_months + 1), n_customers)\n",
    "default = np.random.binomial(1, 0.2, n_customers * n_months)  # 20% default rate\n",
    "\n",
    "# Simulate some features (you can add more complex features)\n",
    "feature_1 = np.random.randn(n_customers * n_months)  # Random feature\n",
    "feature_2 = np.random.randn(n_customers * n_months)  # Another random feature\n",
    "\n",
    "# Create the DataFrame\n",
    "df = pd.DataFrame({\n",
    "    'customer_id': customer_ids,\n",
    "    'month': months,\n",
    "    'feature_1': feature_1,\n",
    "    'feature_2': feature_2,\n",
    "    'default': default\n",
    "})\n",
    "\n",
    "# Sort by customer_id and month to maintain temporal order\n",
    "df = df.sort_values(by=['customer_id', 'month'])\n",
    "\n",
    "# Prepare features (X) and target (y)\n",
    "X = df[['feature_1', 'feature_2']]\n",
    "y = df['default']\n",
    "\n",
    "# ---------------------------------\n",
    "# Rolling-Window Cross-Validation\n",
    "# ---------------------------------\n",
    "print(\"Rolling-Window Cross-Validation:\")\n",
    "tscv = TimeSeriesSplit(n_splits=5)\n",
    "model = RandomForestClassifier()  # Example model\n",
    "\n",
    "# Cross-validation loop for rolling-window\n",
    "for fold, (train_index, test_index) in enumerate(tscv.split(X), 1):\n",
    "    X_train, X_test = X.iloc[train_index], X.iloc[test_index]\n",
    "    y_train, y_test = y.iloc[train_index], y.iloc[test_index]\n",
    "\n",
    "    # Fit the model on the training set\n",
    "    model.fit(X_train, y_train)\n",
    "\n",
    "    # Predict on the testing set\n",
    "    y_pred = model.predict(X_test)\n",
    "\n",
    "    # Evaluate the model\n",
    "    accuracy = accuracy_score(y_test, y_pred)\n",
    "    print(f'Fold {fold} Accuracy: {accuracy:.4f}')\n",
    "print('End')\n"
   ]
  },
  {
   "cell_type": "raw",
   "id": "c9de1341-91ae-4fef-a557-d56b7fa5b19a",
   "metadata": {},
   "source": [
    "# ---------------------------------\n",
    "# Expanding Window Cross-Validation\n",
    "# ---------------------------------\n",
    "print(\"\\nExpanding Window Cross-Validation:\")\n",
    "\n",
    "def expanding_window_split(X, initial_window=12, step_size=1):\n",
    "    n_samples = len(X)\n",
    "    for start in range(initial_window, n_samples, step_size):\n",
    "        yield slice(0, start), slice(start, start + step_size)\n",
    "\n",
    "# Apply expanding window cross-validation\n",
    "for fold, (train_index, test_index) in enumerate(expanding_window_split(X), 1):\n",
    "    X_train, X_test = X.iloc[train_index], X.iloc[test_index]\n",
    "    y_train, y_test = y.iloc[train_index], y.iloc[test_index]\n",
    "\n",
    "    model.fit(X_train, y_train)\n",
    "    y_pred = model.predict(X_test)\n",
    "    accuracy = accuracy_score(y_test, y_pred)\n",
    "    print(f'Fold {fold} Accuracy: {accuracy:.4f}')"
   ]
  },
  {
   "cell_type": "code",
   "execution_count": null,
   "id": "1c821526-10ae-4ab2-8702-bf5cf7e21f05",
   "metadata": {},
   "outputs": [],
   "source": []
  }
 ],
 "metadata": {
  "kernelspec": {
   "display_name": "Python 3 (ipykernel)",
   "language": "python",
   "name": "python3"
  },
  "language_info": {
   "codemirror_mode": {
    "name": "ipython",
    "version": 3
   },
   "file_extension": ".py",
   "mimetype": "text/x-python",
   "name": "python",
   "nbconvert_exporter": "python",
   "pygments_lexer": "ipython3",
   "version": "3.10.13"
  }
 },
 "nbformat": 4,
 "nbformat_minor": 5
}