{
 "cells": [
  {
   "cell_type": "markdown",
   "id": "d67fdfc5",
   "metadata": {},
   "source": [
    "# Data Masking\n",
    "## From Ancient Secrets to Modern Data Privacy\n",
    "The practice of protecting information is not a new concept; it has existed since ancient times. From secret messages passed among spies to coded communications used by military forces, the need to safeguard sensitive information has always been vital. As society transitioned into the digital age, data privacy and security evolved from simple encryption techniques to sophisticated data masking strategies. Today, data masking is a key approach used to protect personally identifiable information (PII) and comply with data privacy regulations like GDPR and HIPAA.\n",
    "\n",
    "In this notebook, we will cover the history, purpose, various methods, typologies, categories, comparison of techniques, and practical implementations of data masking, offering a complete guide to this critical data security measure."
   ]
  },
  {
   "cell_type": "markdown",
   "id": "d963eb16",
   "metadata": {},
   "source": [
    "## Why Data Masking is Important\n",
    "Data masking serves multiple purposes in today’s data-driven world:\n",
    "\n",
    "- **Privacy Protection:** Ensures that sensitive information such as credit card numbers, SSNs, and health records are not disclosed to unauthorized individuals.\n",
    "- **Compliance with Regulations:** Many data privacy laws like GDPR, HIPAA, and CCPA require companies to anonymize or mask data before sharing it externally.\n",
    "- **Risk Reduction in Testing Environments:** Enables developers and testers to work with realistic data without exposing the original sensitive data.\n",
    "- **Maintaining Data Utility:** Allows masked data to be used for analysis, training, and development while ensuring the protection of sensitive details."
   ]
  },
  {
   "cell_type": "markdown",
   "id": "0d63e257",
   "metadata": {},
   "source": [
    "## The Evolution of Data Masking\n",
    "The concept of data masking has evolved significantly over time:\n",
    "\n",
    "### Ancient Times: Secret Codes and Ciphers\n",
    "In ancient civilizations, methods like the Caesar cipher were used to obscure messages. Julius Caesar himself is credited with developing one of the first documented encryption methods by shifting letters in the alphabet.\n",
    "\n",
    "### World War II: Enigma Machine\n",
    "During World War II, the Enigma machine was used to encode military communications. It represented a significant advancement in cryptography, showcasing the importance of data protection.\n",
    "\n",
    "### Modern Era: Rise of Digital Data and Encryption\n",
    "As computers became commonplace, encryption methods advanced. Techniques like DES, RSA, and AES became standard. However, encryption alone was not enough to protect data used in testing or development environments, leading to the rise of data masking.\n",
    "\n",
    "### Today: Data Masking for Compliance and Security\n",
    "With the introduction of data privacy regulations, data masking evolved to include techniques such as tokenization, pseudonymization, and differential privacy. Organizations use data masking to ensure compliance while keeping data usable for analytics."
   ]
  },
  {
   "cell_type": "markdown",
   "id": "6d7f0490",
   "metadata": {},
   "source": [
    "## Typologies and Categories of Data Masking\n",
    "Data masking can be classified based on the nature of the technique and the intended use case:\n",
    "\n",
    "### 1. Based on Data Modification\n",
    "- **Static Data Masking (SDM):** The original data is replaced with masked data in a non-production environment. Ideal for creating masked copies of databases.\n",
    "- **Dynamic Data Masking (DDM):** Data is masked in real-time as it is accessed, providing security while allowing data usage in production environments.\n",
    "- **On-the-fly Data Masking:** Data is masked during extraction from the original source, often used in real-time data integration.\n",
    "\n",
    "### 2. Based on Reversibility\n",
    "- **Reversible Masking (e.g., Tokenization):** The original data can be restored using a key or mapping table.\n",
    "- **Irreversible Masking (e.g., Data Shuffling, Differential Privacy):** Once masked, the original data cannot be recovered.\n",
    "\n",
    "### 3. Based on Data Transformation Method\n",
    "- **Tokenization:** Replaces data elements with tokens while retaining the original format.\n",
    "- **Pseudonymization:** Replaces identifiers with pseudonyms to de-identify data.\n",
    "- **Data Shuffling:** Rearranges data values within the same column to obscure information.\n",
    "- **Differential Privacy:** Adds noise to data to protect individual entries.\n",
    "- **Format-preserving Encryption:** Encrypts data without changing its original format."
   ]
  },
  {
   "cell_type": "markdown",
   "id": "0d6156a7",
   "metadata": {},
   "source": [
    "## Comparing Data Masking Techniques\n",
    "Here’s a comparison of different data masking techniques, highlighting their advantages, disadvantages, and use cases:\n"
   ]
  },
  {
   "cell_type": "markdown",
   "id": "192aa68d",
   "metadata": {},
   "source": [
    "| **Technique**                | **Advantages**                                         | **Disadvantages**                                       | **Use Cases**                                        |\n",
    "|------------------------------|------------------------------------------------------|-------------------------------------------------------|-----------------------------------------------------|\n",
    "| Tokenization                 | Easy to implement, reversible, format-preserving.     | Requires secure mapping storage, limited for analysis. | Payment card industry, compliance (PCI DSS).         |\n",
    "| Data Shuffling               | Maintains statistical distribution.                   | Original patterns may still be discernible.            | Testing environments, statistical data analysis.     |\n",
    "| Pseudonymization             | Reversible for controlled access, de-identifies data. | Can be reversible under certain conditions.            | Healthcare data, finance (GDPR, HIPAA compliance).   |\n",
    "| Differential Privacy         | Strong privacy guarantees, protects individual data.  | Can introduce significant noise, affecting accuracy.   | Big data analytics, aggregate data analysis.         |\n",
    "| Format-preserving Encryption | Retains original data format, suitable for structured data. | More computationally intensive, encryption management. | Financial data, credit card information.             |"
   ]
  },
  {
   "cell_type": "markdown",
   "id": "5200e3e4",
   "metadata": {},
   "source": [
    "## Detailed Implementation of Data Masking Techniques\n",
    "In this section, we will demonstrate how each data masking technique works with Python code examples.\n",
    "\n",
    "### 1. Tokenization Example\n",
    "Tokenization replaces sensitive data elements with tokens while maintaining the original format, making it useful for payment card processing."
   ]
  },
  {
   "cell_type": "code",
   "execution_count": 2,
   "id": "e0761d61",
   "metadata": {},
   "outputs": [
    {
     "name": "stdout",
     "output_type": "stream",
     "text": [
      "           SSN SSN_Tokenized\n",
      "0  123-45-6789      JGGWCJE6\n",
      "1  987-65-4321      MPX9EOIY\n",
      "2  555-44-3333      CDFPKVGE\n",
      "3  111-22-3333      JAPINJLS\n",
      "4  222-33-4444      PV4GKV3G\n"
     ]
    }
   ],
   "source": [
    "import random\n",
    "import string\n",
    "import pandas as pd\n",
    "\n",
    "# Sample data creation\n",
    "sample_ssns = ['123-45-6789', '987-65-4321', '555-44-3333', '111-22-3333', '222-33-4444']\n",
    "data = pd.DataFrame({'SSN': sample_ssns})\n",
    "\n",
    "def tokenize(data):\n",
    "    token_dict = {}\n",
    "    for item in data:\n",
    "        token = ''.join(random.choices(string.ascii_uppercase + string.digits, k=8))\n",
    "        token_dict[item] = token\n",
    "    return [token_dict[item] for item in data]\n",
    "\n",
    "# Tokenizing the SSN data\n",
    "data['SSN_Tokenized'] = tokenize(data['SSN'])\n",
    "print(data[['SSN', 'SSN_Tokenized']])\n"
   ]
  },
  {
   "cell_type": "markdown",
   "id": "24bfe6fc",
   "metadata": {},
   "source": [
    "### 4. Differential Privacy Example\n",
    "Differential privacy introduces statistical noise to the dataset, ensuring individual data points remain unidentifiable.\n",
    "\n",
    "The technique allows for meaningful aggregate analysis without exposing individual entries, making it ideal for large-scale data analysis."
   ]
  },
  {
   "cell_type": "code",
   "execution_count": 3,
   "id": "1d539e55",
   "metadata": {},
   "outputs": [
    {
     "data": {
      "text/html": [
       "<div>\n",
       "<style scoped>\n",
       "    .dataframe tbody tr th:only-of-type {\n",
       "        vertical-align: middle;\n",
       "    }\n",
       "\n",
       "    .dataframe tbody tr th {\n",
       "        vertical-align: top;\n",
       "    }\n",
       "\n",
       "    .dataframe thead th {\n",
       "        text-align: right;\n",
       "    }\n",
       "</style>\n",
       "<table border=\"1\" class=\"dataframe\">\n",
       "  <thead>\n",
       "    <tr style=\"text-align: right;\">\n",
       "      <th></th>\n",
       "      <th>SSN</th>\n",
       "      <th>SSN_Noise</th>\n",
       "    </tr>\n",
       "  </thead>\n",
       "  <tbody>\n",
       "    <tr>\n",
       "      <th>0</th>\n",
       "      <td>123-45-6789</td>\n",
       "      <td>1.234568e+08</td>\n",
       "    </tr>\n",
       "    <tr>\n",
       "      <th>1</th>\n",
       "      <td>987-65-4321</td>\n",
       "      <td>9.876543e+08</td>\n",
       "    </tr>\n",
       "    <tr>\n",
       "      <th>2</th>\n",
       "      <td>555-44-3333</td>\n",
       "      <td>5.554433e+08</td>\n",
       "    </tr>\n",
       "    <tr>\n",
       "      <th>3</th>\n",
       "      <td>111-22-3333</td>\n",
       "      <td>1.112233e+08</td>\n",
       "    </tr>\n",
       "    <tr>\n",
       "      <th>4</th>\n",
       "      <td>222-33-4444</td>\n",
       "      <td>2.223344e+08</td>\n",
       "    </tr>\n",
       "  </tbody>\n",
       "</table>\n",
       "</div>"
      ],
      "text/plain": [
       "           SSN     SSN_Noise\n",
       "0  123-45-6789  1.234568e+08\n",
       "1  987-65-4321  9.876543e+08\n",
       "2  555-44-3333  5.554433e+08\n",
       "3  111-22-3333  1.112233e+08\n",
       "4  222-33-4444  2.223344e+08"
      ]
     },
     "execution_count": 3,
     "metadata": {},
     "output_type": "execute_result"
    }
   ],
   "source": [
    "import numpy as np\n",
    "\n",
    "def add_noise(data, epsilon=1.0):\n",
    "    noise = np.random.laplace(0, 1/epsilon, len(data))\n",
    "    noisy_data = data + noise\n",
    "    return noisy_data\n",
    "\n",
    "# Adding noise to the SSN data for differential privacy\n",
    "original_data = np.array([int(x.replace('-', '')) for x in data['SSN']])\n",
    "data['SSN_Noise'] = add_noise(original_data, epsilon=0.5)\n",
    "data[['SSN', 'SSN_Noise']]"
   ]
  },
  {
   "cell_type": "markdown",
   "id": "8ab37c1d",
   "metadata": {},
   "source": [
    "### 5. Format-Preserving Encryption Example\n",
    "Format-preserving encryption encrypts data while retaining its original format, allowing the data to be used in environments where a specific format is required.\n",
    "\n",
    "This technique is commonly used for sensitive structured data, such as credit card numbers."
   ]
  },
  {
   "cell_type": "code",
   "execution_count": 5,
   "id": "bb299ead",
   "metadata": {},
   "outputs": [
    {
     "name": "stdout",
     "output_type": "stream",
     "text": [
      "            CreditCard CreditCard_Encrypted\n",
      "0  1234-5678-9876-5432  2345-6789-8765-4321\n",
      "1  4321-8765-6789-1234  4321-9876-5678-1234\n",
      "2  5678-1234-9876-5432  2345-6789-4321-8765\n",
      "3  8765-4321-1234-5678  8765-4321-1234-5678\n"
     ]
    }
   ],
   "source": [
    "import pandas as pd\n",
    "\n",
    "# Sample data creation\n",
    "sample_credit_cards = ['1234-5678-9876-5432', '4321-8765-6789-1234', '5678-1234-9876-5432', '8765-4321-1234-5678']\n",
    "data = pd.DataFrame({'CreditCard': sample_credit_cards})\n",
    "\n",
    "def format_preserving_encryption(data):\n",
    "    encrypted_data = [''.join(reversed(str(item))) for item in data]\n",
    "    return encrypted_data\n",
    "\n",
    "# Encrypting the credit card data\n",
    "data['CreditCard_Encrypted'] = format_preserving_encryption(data['CreditCard'])\n",
    "print(data[['CreditCard', 'CreditCard_Encrypted']])\n"
   ]
  },
  {
   "cell_type": "markdown",
   "id": "645ab579",
   "metadata": {},
   "source": [
    "## Real-World Applications of Data Masking\n",
    "Data masking is used across various industries to secure sensitive information. Here are some common applications:\n",
    "\n",
    "- **Healthcare:** Protecting patient data for clinical trials and research while complying with HIPAA.\n",
    "- **Finance:** Securing credit card information for compliance with PCI DSS and ensuring safe usage in testing environments.\n",
    "- **Retail:** Masking customer data used in analytics to protect privacy and meet GDPR requirements.\n",
    "- **Telecommunications:** Anonymizing user data for network performance analysis."
   ]
  },
  {
   "cell_type": "markdown",
   "id": "52cf2d2b",
   "metadata": {},
   "source": [
    "## Challenges and Best Practices in Data Masking\n",
    "While data masking provides a layer of security, there are challenges to consider:\n",
    "\n",
    "- **Balancing Privacy and Utility:** Adding too much noise can reduce the data's analytical value.\n",
    "- **Compliance Requirements:** Ensuring that data masking techniques meet regulatory standards.\n",
    "- **Performance Impact:** Masking large datasets can be computationally intensive.\n",
    "\n",
    "### Best Practices:\n",
    "- Use a combination of techniques for stronger protection.\n",
    "- Regularly review and update masking strategies to adapt to new regulations.\n",
    "- Store mapping tables for reversible techniques securely."
   ]
  },
  {
   "cell_type": "markdown",
   "id": "17738157",
   "metadata": {},
   "source": [
    "## Summary\n",
    "Data masking is a crucial technique in modern data security, allowing organizations to protect sensitive information while still using the data for analysis, testing, and compliance. Through various methods such as tokenization, pseudonymization, data shuffling, differential privacy, and format-preserving encryption, data can be masked to ensure privacy and security."
   ]
  }
 ],
 "metadata": {
  "kernelspec": {
   "display_name": "Python 3 (ipykernel)",
   "language": "python",
   "name": "python3"
  },
  "language_info": {
   "codemirror_mode": {
    "name": "ipython",
    "version": 3
   },
   "file_extension": ".py",
   "mimetype": "text/x-python",
   "name": "python",
   "nbconvert_exporter": "python",
   "pygments_lexer": "ipython3",
   "version": "3.10.13"
  }
 },
 "nbformat": 4,
 "nbformat_minor": 5
}