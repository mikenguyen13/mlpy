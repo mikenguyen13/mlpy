{
 "cells": [
  {
   "cell_type": "markdown",
   "id": "11ac6d12-10e1-4418-a905-0d59fd8def4b",
   "metadata": {},
   "source": [
    "# Data Anonymization Techniques for Geospatial Data\n",
    "\n",
    "This notebook demonstrates various techniques for anonymizing a dataset containing place names, latitude, longitude, and wealth values. Each technique has its own trade-offs between data privacy and utility, and the choice of method depends on the requirements for anonymization and analysis.\n",
    "\n",
    "## 1. Aggregation/Generalization\n",
    "\n",
    "Aggregation or generalization involves reducing the precision of geographic coordinates or grouping data into broader categories to make identification more difficult.\n",
    "\n",
    "For example, latitude and longitude values can be rounded to reduce precision, making it harder to identify exact locations."
   ]
  },
  {
   "cell_type": "code",
   "execution_count": 1,
   "id": "724b6df7-e379-40b1-8c77-a6bc640a76e8",
   "metadata": {},
   "outputs": [
    {
     "name": "stdout",
     "output_type": "stream",
     "text": [
      "Data after generalization:\n"
     ]
    },
    {
     "data": {
      "text/html": [
       "<div>\n",
       "<style scoped>\n",
       "    .dataframe tbody tr th:only-of-type {\n",
       "        vertical-align: middle;\n",
       "    }\n",
       "\n",
       "    .dataframe tbody tr th {\n",
       "        vertical-align: top;\n",
       "    }\n",
       "\n",
       "    .dataframe thead th {\n",
       "        text-align: right;\n",
       "    }\n",
       "</style>\n",
       "<table border=\"1\" class=\"dataframe\">\n",
       "  <thead>\n",
       "    <tr style=\"text-align: right;\">\n",
       "      <th></th>\n",
       "      <th>place</th>\n",
       "      <th>latitude</th>\n",
       "      <th>longitude</th>\n",
       "      <th>wealth</th>\n",
       "      <th>latitude_generalized</th>\n",
       "      <th>longitude_generalized</th>\n",
       "    </tr>\n",
       "  </thead>\n",
       "  <tbody>\n",
       "    <tr>\n",
       "      <th>0</th>\n",
       "      <td>A</td>\n",
       "      <td>34.0522</td>\n",
       "      <td>-118.2437</td>\n",
       "      <td>100000</td>\n",
       "      <td>34.1</td>\n",
       "      <td>-118.2</td>\n",
       "    </tr>\n",
       "    <tr>\n",
       "      <th>1</th>\n",
       "      <td>B</td>\n",
       "      <td>37.7749</td>\n",
       "      <td>-122.4194</td>\n",
       "      <td>150000</td>\n",
       "      <td>37.8</td>\n",
       "      <td>-122.4</td>\n",
       "    </tr>\n",
       "    <tr>\n",
       "      <th>2</th>\n",
       "      <td>C</td>\n",
       "      <td>40.7128</td>\n",
       "      <td>-74.0060</td>\n",
       "      <td>200000</td>\n",
       "      <td>40.7</td>\n",
       "      <td>-74.0</td>\n",
       "    </tr>\n",
       "  </tbody>\n",
       "</table>\n",
       "</div>"
      ],
      "text/plain": [
       "  place  latitude  longitude  wealth  latitude_generalized  \\\n",
       "0     A   34.0522  -118.2437  100000                  34.1   \n",
       "1     B   37.7749  -122.4194  150000                  37.8   \n",
       "2     C   40.7128   -74.0060  200000                  40.7   \n",
       "\n",
       "   longitude_generalized  \n",
       "0                 -118.2  \n",
       "1                 -122.4  \n",
       "2                  -74.0  "
      ]
     },
     "execution_count": 1,
     "metadata": {},
     "output_type": "execute_result"
    }
   ],
   "source": [
    "import pandas as pd\n",
    "\n",
    "# Sample DataFrame\n",
    "df = pd.DataFrame({\n",
    "    'place': ['A', 'B', 'C'],\n",
    "    'latitude': [34.0522, 37.7749, 40.7128],\n",
    "    'longitude': [-118.2437, -122.4194, -74.0060],\n",
    "    'wealth': [100000, 150000, 200000]\n",
    "})\n",
    "\n",
    "# Generalizing coordinates by rounding to one decimal place\n",
    "df['latitude_generalized'] = df['latitude'].round(1)\n",
    "df['longitude_generalized'] = df['longitude'].round(1)\n",
    "\n",
    "print(\"Data after generalization:\")\n",
    "df"
   ]
  },
  {
   "cell_type": "markdown",
   "id": "165ffced-27f3-4947-953b-0b02fd6873e5",
   "metadata": {},
   "source": [
    "## 2. Adding Spatial Noise\n",
    "\n",
    "Adding spatial noise involves randomly perturbing the latitude and longitude values. This can help anonymize the data while preserving overall geographic trends."
   ]
  },
  {
   "cell_type": "code",
   "execution_count": 2,
   "id": "bbb1224f-b8ae-4cd7-9919-47a2445d0ef0",
   "metadata": {},
   "outputs": [
    {
     "name": "stdout",
     "output_type": "stream",
     "text": [
      "Data after adding spatial noise:\n"
     ]
    },
    {
     "data": {
      "text/html": [
       "<div>\n",
       "<style scoped>\n",
       "    .dataframe tbody tr th:only-of-type {\n",
       "        vertical-align: middle;\n",
       "    }\n",
       "\n",
       "    .dataframe tbody tr th {\n",
       "        vertical-align: top;\n",
       "    }\n",
       "\n",
       "    .dataframe thead th {\n",
       "        text-align: right;\n",
       "    }\n",
       "</style>\n",
       "<table border=\"1\" class=\"dataframe\">\n",
       "  <thead>\n",
       "    <tr style=\"text-align: right;\">\n",
       "      <th></th>\n",
       "      <th>place</th>\n",
       "      <th>latitude</th>\n",
       "      <th>longitude</th>\n",
       "      <th>wealth</th>\n",
       "      <th>latitude_generalized</th>\n",
       "      <th>longitude_generalized</th>\n",
       "      <th>latitude_noisy</th>\n",
       "      <th>longitude_noisy</th>\n",
       "    </tr>\n",
       "  </thead>\n",
       "  <tbody>\n",
       "    <tr>\n",
       "      <th>0</th>\n",
       "      <td>A</td>\n",
       "      <td>34.0522</td>\n",
       "      <td>-118.2437</td>\n",
       "      <td>100000</td>\n",
       "      <td>34.1</td>\n",
       "      <td>-118.2</td>\n",
       "      <td>34.057083</td>\n",
       "      <td>-118.250292</td>\n",
       "    </tr>\n",
       "    <tr>\n",
       "      <th>1</th>\n",
       "      <td>B</td>\n",
       "      <td>37.7749</td>\n",
       "      <td>-122.4194</td>\n",
       "      <td>150000</td>\n",
       "      <td>37.8</td>\n",
       "      <td>-122.4</td>\n",
       "      <td>37.782905</td>\n",
       "      <td>-122.426229</td>\n",
       "    </tr>\n",
       "    <tr>\n",
       "      <th>2</th>\n",
       "      <td>C</td>\n",
       "      <td>40.7128</td>\n",
       "      <td>-74.0060</td>\n",
       "      <td>200000</td>\n",
       "      <td>40.7</td>\n",
       "      <td>-74.0</td>\n",
       "      <td>40.710975</td>\n",
       "      <td>-74.008233</td>\n",
       "    </tr>\n",
       "  </tbody>\n",
       "</table>\n",
       "</div>"
      ],
      "text/plain": [
       "  place  latitude  longitude  wealth  latitude_generalized  \\\n",
       "0     A   34.0522  -118.2437  100000                  34.1   \n",
       "1     B   37.7749  -122.4194  150000                  37.8   \n",
       "2     C   40.7128   -74.0060  200000                  40.7   \n",
       "\n",
       "   longitude_generalized  latitude_noisy  longitude_noisy  \n",
       "0                 -118.2       34.057083      -118.250292  \n",
       "1                 -122.4       37.782905      -122.426229  \n",
       "2                  -74.0       40.710975       -74.008233  "
      ]
     },
     "execution_count": 2,
     "metadata": {},
     "output_type": "execute_result"
    }
   ],
   "source": [
    "import random\n",
    "\n",
    "# Function to add noise to latitude and longitude\n",
    "def add_spatial_noise(lat, lon, noise_level=0.01):\n",
    "    noisy_lat = lat + random.uniform(-noise_level, noise_level)\n",
    "    noisy_lon = lon + random.uniform(-noise_level, noise_level)\n",
    "    return noisy_lat, noisy_lon\n",
    "\n",
    "# Applying the spatial noise function\n",
    "df['latitude_noisy'], df['longitude_noisy'] = zip(*df.apply(lambda row: add_spatial_noise(row['latitude'], row['longitude']), axis=1))\n",
    "\n",
    "print(\"Data after adding spatial noise:\")\n",
    "df"
   ]
  },
  {
   "cell_type": "markdown",
   "id": "fa7f3b9b-5bad-4675-adb6-5c63c2e21d6b",
   "metadata": {},
   "source": [
    "## 3. K-Anonymity for Spatial Data\n",
    "\n",
    "K-anonymity ensures that each data point is indistinguishable from at least \\(k-1\\) other data points. This can be achieved by clustering the data and using the cluster centroids as anonymized locations."
   ]
  },
  {
   "cell_type": "code",
   "execution_count": 3,
   "id": "3aa348aa-439e-456b-ad6a-0534588b7b0d",
   "metadata": {},
   "outputs": [],
   "source": [
    "# pip install scikit-mobility"
   ]
  },
  {
   "cell_type": "code",
   "execution_count": 4,
   "id": "2028f741-ffb4-4e19-b84a-a37940f06cac",
   "metadata": {},
   "outputs": [
    {
     "name": "stdout",
     "output_type": "stream",
     "text": [
      "Data after applying k-anonymity clustering:\n",
      "       lat       lng            datetime  cluster\n",
      "0  34.0522 -118.2437 2024-10-01 00:00:00        0\n",
      "1  34.0523 -118.2438 2024-10-01 01:00:00        0\n",
      "2  34.0524 -118.2439 2024-10-01 02:00:00        0\n",
      "3  34.0525 -118.2440 2024-10-01 03:00:00        0\n"
     ]
    },
    {
     "name": "stderr",
     "output_type": "stream",
     "text": [
      "C:\\Users\\miken\\AppData\\Local\\Temp\\ipykernel_73744\\3519784660.py:9: FutureWarning: 'H' is deprecated and will be removed in a future version, please use 'h' instead.\n",
      "  'datetime': pd.date_range(start='2024-10-01', periods=4, freq='H')  # Sample datetime values\n"
     ]
    }
   ],
   "source": [
    "import pandas as pd\n",
    "from skmob import TrajDataFrame\n",
    "from skmob.preprocessing import clustering\n",
    "\n",
    "# Sample data creation (Make sure to replace this with your actual data)\n",
    "data = {\n",
    "    'latitude': [34.0522, 34.0523, 34.0524, 34.0525],\n",
    "    'longitude': [-118.2437, -118.2438, -118.2439, -118.2440],\n",
    "    'datetime': pd.date_range(start='2024-10-01', periods=4, freq='H')  # Sample datetime values\n",
    "}\n",
    "df = pd.DataFrame(data)\n",
    "\n",
    "# Convert the DataFrame to a TrajDataFrame for clustering\n",
    "tdf = TrajDataFrame(df, latitude='latitude', longitude='longitude', datetime='datetime')\n",
    "\n",
    "# Applying clustering with a 1 km radius for k-anonymity\n",
    "clustered_tdf = clustering.cluster(tdf, cluster_radius_km=1, min_samples=2)\n",
    "\n",
    "print(\"Data after applying k-anonymity clustering:\")\n",
    "print(clustered_tdf)\n"
   ]
  },
  {
   "cell_type": "markdown",
   "id": "e96181fa-67df-4bb6-9b23-76770497430c",
   "metadata": {},
   "source": [
    "## 4. Binning Wealth Values\n",
    "\n",
    "To anonymize sensitive numerical data, such as wealth, binning can be used. This involves converting continuous values into discrete categories."
   ]
  },
  {
   "cell_type": "code",
   "execution_count": 5,
   "id": "97c5acff-d08d-4142-989b-7ee96920efd7",
   "metadata": {},
   "outputs": [
    {
     "name": "stdout",
     "output_type": "stream",
     "text": [
      "Data after binning wealth values:\n",
      "   wealth wealth_binned\n",
      "0   50000           Low\n",
      "1  120000        Medium\n",
      "2  180000          High\n",
      "3   75000           Low\n",
      "4  210000           NaN\n",
      "5  130000        Medium\n"
     ]
    }
   ],
   "source": [
    "import pandas as pd\n",
    "\n",
    "# Sample data creation (Make sure to replace this with your actual data)\n",
    "data = {\n",
    "    'wealth': [50000, 120000, 180000, 75000, 210000, 130000]\n",
    "}\n",
    "df = pd.DataFrame(data)\n",
    "\n",
    "# Binning the wealth column into discrete ranges\n",
    "df['wealth_binned'] = pd.cut(df['wealth'], bins=[0, 100000, 150000, 200000], labels=['Low', 'Medium', 'High'])\n",
    "\n",
    "print(\"Data after binning wealth values:\")\n",
    "print(df)\n"
   ]
  },
  {
   "cell_type": "markdown",
   "id": "08eda9e0-dacd-4d14-91d0-067e59367743",
   "metadata": {},
   "source": [
    "## 5. Data Masking for Place Names\n",
    "\n",
    "Data masking replaces identifiable values, such as place names, with broader categories or randomly generated names to protect privacy."
   ]
  },
  {
   "cell_type": "code",
   "execution_count": 6,
   "id": "df29ab0e-7d11-49f7-aa94-0d660e74a32b",
   "metadata": {},
   "outputs": [],
   "source": [
    "#pip install faker"
   ]
  },
  {
   "cell_type": "code",
   "execution_count": 7,
   "id": "6c5a9d0a-fb23-4072-9d39-b345f2acc58f",
   "metadata": {},
   "outputs": [
    {
     "name": "stdout",
     "output_type": "stream",
     "text": [
      "Data after masking place names:\n"
     ]
    },
    {
     "data": {
      "text/html": [
       "<div>\n",
       "<style scoped>\n",
       "    .dataframe tbody tr th:only-of-type {\n",
       "        vertical-align: middle;\n",
       "    }\n",
       "\n",
       "    .dataframe tbody tr th {\n",
       "        vertical-align: top;\n",
       "    }\n",
       "\n",
       "    .dataframe thead th {\n",
       "        text-align: right;\n",
       "    }\n",
       "</style>\n",
       "<table border=\"1\" class=\"dataframe\">\n",
       "  <thead>\n",
       "    <tr style=\"text-align: right;\">\n",
       "      <th></th>\n",
       "      <th>wealth</th>\n",
       "      <th>wealth_binned</th>\n",
       "      <th>place_synthetic</th>\n",
       "    </tr>\n",
       "  </thead>\n",
       "  <tbody>\n",
       "    <tr>\n",
       "      <th>0</th>\n",
       "      <td>50000</td>\n",
       "      <td>Low</td>\n",
       "      <td>North Erikshire</td>\n",
       "    </tr>\n",
       "    <tr>\n",
       "      <th>1</th>\n",
       "      <td>120000</td>\n",
       "      <td>Medium</td>\n",
       "      <td>Mendozafort</td>\n",
       "    </tr>\n",
       "    <tr>\n",
       "      <th>2</th>\n",
       "      <td>180000</td>\n",
       "      <td>High</td>\n",
       "      <td>Tammyton</td>\n",
       "    </tr>\n",
       "    <tr>\n",
       "      <th>3</th>\n",
       "      <td>75000</td>\n",
       "      <td>Low</td>\n",
       "      <td>New Juan</td>\n",
       "    </tr>\n",
       "    <tr>\n",
       "      <th>4</th>\n",
       "      <td>210000</td>\n",
       "      <td>NaN</td>\n",
       "      <td>Joneston</td>\n",
       "    </tr>\n",
       "    <tr>\n",
       "      <th>5</th>\n",
       "      <td>130000</td>\n",
       "      <td>Medium</td>\n",
       "      <td>South Jaime</td>\n",
       "    </tr>\n",
       "  </tbody>\n",
       "</table>\n",
       "</div>"
      ],
      "text/plain": [
       "   wealth wealth_binned  place_synthetic\n",
       "0   50000           Low  North Erikshire\n",
       "1  120000        Medium      Mendozafort\n",
       "2  180000          High         Tammyton\n",
       "3   75000           Low         New Juan\n",
       "4  210000           NaN         Joneston\n",
       "5  130000        Medium      South Jaime"
      ]
     },
     "execution_count": 7,
     "metadata": {},
     "output_type": "execute_result"
    }
   ],
   "source": [
    "from faker import Faker\n",
    "\n",
    "fake = Faker()\n",
    "# Replace place names with synthetic city names\n",
    "df['place_synthetic'] = [fake.city() for _ in range(len(df))]\n",
    "\n",
    "print(\"Data after masking place names:\")\n",
    "df"
   ]
  },
  {
   "cell_type": "markdown",
   "id": "ab30f203-d1ad-41b8-b5d8-2e1ca8cf2a32",
   "metadata": {},
   "source": [
    "## 6. Using Synthetic Data Generation\n",
    "\n",
    "Synthetic data generation involves creating new data points that mimic the statistical properties of the original dataset. This can help preserve the privacy of individuals while maintaining data utility for analysis."
   ]
  },
  {
   "cell_type": "code",
   "execution_count": 8,
   "id": "438b3d92-2265-4383-9eb2-c6c9c9fc2901",
   "metadata": {},
   "outputs": [
    {
     "name": "stdout",
     "output_type": "stream",
     "text": [
      "Data after generating synthetic values:\n",
      "   latitude  longitude  wealth  latitude_synthetic  longitude_synthetic  \\\n",
      "0     34.05    -118.25   50000           34.666672          -109.202091   \n",
      "1     36.16    -115.15  120000           37.084587          -141.048762   \n",
      "2     40.71     -74.01  180000           35.503760          -122.633777   \n",
      "3     37.77    -122.42   75000           36.019232           -98.048757   \n",
      "4     34.05    -118.25  210000           37.328326           -80.744612   \n",
      "\n",
      "   wealth_synthetic  \n",
      "0     196412.605081  \n",
      "1     211228.130691  \n",
      "2     109456.315324  \n",
      "3     310971.375837  \n",
      "4     206447.320845  \n"
     ]
    }
   ],
   "source": [
    "import pandas as pd\n",
    "import numpy as np\n",
    "\n",
    "# Sample data creation (Make sure to replace this with your actual data)\n",
    "data = {\n",
    "    'latitude': [34.05, 36.16, 40.71, 37.77, 34.05],\n",
    "    'longitude': [-118.25, -115.15, -74.01, -122.42, -118.25],\n",
    "    'wealth': [50000, 120000, 180000, 75000, 210000]\n",
    "}\n",
    "df = pd.DataFrame(data)\n",
    "\n",
    "# Generate synthetic latitude, longitude, and wealth values\n",
    "df['latitude_synthetic'] = np.random.normal(df['latitude'].mean(), df['latitude'].std(), size=len(df))\n",
    "df['longitude_synthetic'] = np.random.normal(df['longitude'].mean(), df['longitude'].std(), size=len(df))\n",
    "df['wealth_synthetic'] = np.random.normal(df['wealth'].mean(), df['wealth'].std(), size=len(df))\n",
    "\n",
    "print(\"Data after generating synthetic values:\")\n",
    "print(df)\n"
   ]
  },
  {
   "cell_type": "markdown",
   "id": "35c73a29-be7c-4638-bba7-a8194b2d6e67",
   "metadata": {},
   "source": [
    "## 7. Combining Techniques\n",
    "\n",
    "Combining multiple anonymization techniques can provide a higher level of privacy protection. For example, spatial noise can be added along with binning of wealth values."
   ]
  },
  {
   "cell_type": "code",
   "execution_count": 9,
   "id": "ee12d298-9f61-4c15-91d7-515c0855d214",
   "metadata": {},
   "outputs": [
    {
     "name": "stdout",
     "output_type": "stream",
     "text": [
      "Data after combining anonymization techniques:\n",
      "   latitude  longitude  wealth  latitude_combined  longitude_combined  \\\n",
      "0     34.05    -118.25   50000          34.061377         -118.241111   \n",
      "1     36.16    -115.15  120000          36.156883         -115.134458   \n",
      "2     40.71     -74.01  180000          40.693232          -74.016372   \n",
      "3     37.77    -122.42   75000          37.770480         -122.409198   \n",
      "4     34.05    -118.25  210000          34.052612         -118.258973   \n",
      "\n",
      "  wealth_combined  \n",
      "0             Low  \n",
      "1          Medium  \n",
      "2            High  \n",
      "3             Low  \n",
      "4             NaN  \n"
     ]
    }
   ],
   "source": [
    "import pandas as pd\n",
    "import numpy as np\n",
    "\n",
    "# Sample data creation (Make sure to replace this with your actual data)\n",
    "data = {\n",
    "    'latitude': [34.05, 36.16, 40.71, 37.77, 34.05],\n",
    "    'longitude': [-118.25, -115.15, -74.01, -122.42, -118.25],\n",
    "    'wealth': [50000, 120000, 180000, 75000, 210000]\n",
    "}\n",
    "df = pd.DataFrame(data)\n",
    "\n",
    "# Function to add spatial noise\n",
    "def add_spatial_noise(latitude, longitude, noise_level=0.01):\n",
    "    # Adding noise to latitude and longitude\n",
    "    noisy_latitude = latitude + np.random.normal(0, noise_level)\n",
    "    noisy_longitude = longitude + np.random.normal(0, noise_level)\n",
    "    return noisy_latitude, noisy_longitude\n",
    "\n",
    "# Adding spatial noise and binning wealth values\n",
    "df['latitude_combined'], df['longitude_combined'] = zip(*df.apply(lambda row: add_spatial_noise(row['latitude'], row['longitude']), axis=1))\n",
    "df['wealth_combined'] = pd.cut(df['wealth'], bins=[0, 100000, 150000, 200000], labels=['Low', 'Medium', 'High'])\n",
    "\n",
    "print(\"Data after combining anonymization techniques:\")\n",
    "print(df)\n"
   ]
  },
  {
   "cell_type": "markdown",
   "id": "7702e7d3-7ee8-45b3-8226-353e80b4f106",
   "metadata": {},
   "source": [
    "## 8. Data Swapping\n",
    "\n",
    "Data swapping involves exchanging values of sensitive attributes (e.g., wealth) between different records. This technique helps anonymize the data while preserving the overall statistical distribution.\n",
    "\n",
    "For example, we can randomly swap the wealth values between different locations in the dataset."
   ]
  },
  {
   "cell_type": "code",
   "execution_count": 10,
   "id": "57f4d4d1-c026-485a-a9f0-21d4bdc8befe",
   "metadata": {},
   "outputs": [
    {
     "name": "stdout",
     "output_type": "stream",
     "text": [
      "Data after swapping wealth values:\n"
     ]
    },
    {
     "data": {
      "text/html": [
       "<div>\n",
       "<style scoped>\n",
       "    .dataframe tbody tr th:only-of-type {\n",
       "        vertical-align: middle;\n",
       "    }\n",
       "\n",
       "    .dataframe tbody tr th {\n",
       "        vertical-align: top;\n",
       "    }\n",
       "\n",
       "    .dataframe thead th {\n",
       "        text-align: right;\n",
       "    }\n",
       "</style>\n",
       "<table border=\"1\" class=\"dataframe\">\n",
       "  <thead>\n",
       "    <tr style=\"text-align: right;\">\n",
       "      <th></th>\n",
       "      <th>latitude</th>\n",
       "      <th>longitude</th>\n",
       "      <th>wealth</th>\n",
       "      <th>latitude_combined</th>\n",
       "      <th>longitude_combined</th>\n",
       "      <th>wealth_combined</th>\n",
       "      <th>wealth_swapped</th>\n",
       "    </tr>\n",
       "  </thead>\n",
       "  <tbody>\n",
       "    <tr>\n",
       "      <th>0</th>\n",
       "      <td>34.05</td>\n",
       "      <td>-118.25</td>\n",
       "      <td>50000</td>\n",
       "      <td>34.061377</td>\n",
       "      <td>-118.241111</td>\n",
       "      <td>Low</td>\n",
       "      <td>75000</td>\n",
       "    </tr>\n",
       "    <tr>\n",
       "      <th>1</th>\n",
       "      <td>36.16</td>\n",
       "      <td>-115.15</td>\n",
       "      <td>120000</td>\n",
       "      <td>36.156883</td>\n",
       "      <td>-115.134458</td>\n",
       "      <td>Medium</td>\n",
       "      <td>120000</td>\n",
       "    </tr>\n",
       "    <tr>\n",
       "      <th>2</th>\n",
       "      <td>40.71</td>\n",
       "      <td>-74.01</td>\n",
       "      <td>180000</td>\n",
       "      <td>40.693232</td>\n",
       "      <td>-74.016372</td>\n",
       "      <td>High</td>\n",
       "      <td>210000</td>\n",
       "    </tr>\n",
       "    <tr>\n",
       "      <th>3</th>\n",
       "      <td>37.77</td>\n",
       "      <td>-122.42</td>\n",
       "      <td>75000</td>\n",
       "      <td>37.770480</td>\n",
       "      <td>-122.409198</td>\n",
       "      <td>Low</td>\n",
       "      <td>180000</td>\n",
       "    </tr>\n",
       "    <tr>\n",
       "      <th>4</th>\n",
       "      <td>34.05</td>\n",
       "      <td>-118.25</td>\n",
       "      <td>210000</td>\n",
       "      <td>34.052612</td>\n",
       "      <td>-118.258973</td>\n",
       "      <td>NaN</td>\n",
       "      <td>50000</td>\n",
       "    </tr>\n",
       "  </tbody>\n",
       "</table>\n",
       "</div>"
      ],
      "text/plain": [
       "   latitude  longitude  wealth  latitude_combined  longitude_combined  \\\n",
       "0     34.05    -118.25   50000          34.061377         -118.241111   \n",
       "1     36.16    -115.15  120000          36.156883         -115.134458   \n",
       "2     40.71     -74.01  180000          40.693232          -74.016372   \n",
       "3     37.77    -122.42   75000          37.770480         -122.409198   \n",
       "4     34.05    -118.25  210000          34.052612         -118.258973   \n",
       "\n",
       "  wealth_combined  wealth_swapped  \n",
       "0             Low           75000  \n",
       "1          Medium          120000  \n",
       "2            High          210000  \n",
       "3             Low          180000  \n",
       "4             NaN           50000  "
      ]
     },
     "execution_count": 10,
     "metadata": {},
     "output_type": "execute_result"
    }
   ],
   "source": [
    "import numpy as np\n",
    "\n",
    "# Function to swap values in the wealth column randomly\n",
    "def swap_values(column):\n",
    "    shuffled = column.sample(frac=1).values\n",
    "    return shuffled\n",
    "\n",
    "# Apply swapping to the 'wealth' column\n",
    "df['wealth_swapped'] = swap_values(df['wealth'])\n",
    "\n",
    "print(\"Data after swapping wealth values:\")\n",
    "df"
   ]
  },
  {
   "cell_type": "markdown",
   "id": "58253eba-6a53-4307-aaa0-e534dfed975a",
   "metadata": {},
   "source": [
    "Data swapping can help protect sensitive information, but excessive swapping might distort the relationships between attributes. The amount of swapping should be chosen carefully to balance privacy and data utility."
   ]
  },
  {
   "cell_type": "code",
   "execution_count": null,
   "id": "a5512871-49ed-4e51-ae03-28e57d751608",
   "metadata": {},
   "outputs": [],
   "source": []
  }
 ],
 "metadata": {
  "kernelspec": {
   "display_name": "Python 3 (ipykernel)",
   "language": "python",
   "name": "python3"
  },
  "language_info": {
   "codemirror_mode": {
    "name": "ipython",
    "version": 3
   },
   "file_extension": ".py",
   "mimetype": "text/x-python",
   "name": "python",
   "nbconvert_exporter": "python",
   "pygments_lexer": "ipython3",
   "version": "3.10.13"
  }
 },
 "nbformat": 4,
 "nbformat_minor": 5
}