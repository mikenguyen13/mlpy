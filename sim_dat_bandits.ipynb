{
 "cells": [
  {
   "cell_type": "markdown",
   "id": "639c4b6e-c2fe-4edb-92e5-fcde4f526cc5",
   "metadata": {},
   "source": [
    "# Multi-Armed Bandits"
   ]
  },
  {
   "cell_type": "markdown",
   "id": "6d13d5c6-5c51-450b-8150-e1f4c33cc988",
   "metadata": {},
   "source": [
    "**Step 1**: Simulate the Dataset\n",
    "\n",
    "We'll create a dataset where each potential client has a set of features (context) and can receive one of several possible messages. \n",
    "\n",
    "The goal is to learn which message works best for different segments based on their context.\n",
    "\n",
    "Key Components:\n",
    " * Contextual features: These could be behavioral data such as the number of SMSs read, the average time taken to respond, etc.\n",
    " * Actions: The different messages that can be sent.\n",
    " * Rewards: The reply rate, indicating whether the client responded to the message."
   ]
  },
  {
   "cell_type": "code",
   "execution_count": 4,
   "id": "d5dbdaf1-4102-4ee4-ba25-0c5e8bfe3e7b",
   "metadata": {},
   "outputs": [
    {
     "data": {
      "text/html": [
       "<div>\n",
       "<style scoped>\n",
       "    .dataframe tbody tr th:only-of-type {\n",
       "        vertical-align: middle;\n",
       "    }\n",
       "\n",
       "    .dataframe tbody tr th {\n",
       "        vertical-align: top;\n",
       "    }\n",
       "\n",
       "    .dataframe thead th {\n",
       "        text-align: right;\n",
       "    }\n",
       "</style>\n",
       "<table border=\"1\" class=\"dataframe\">\n",
       "  <thead>\n",
       "    <tr style=\"text-align: right;\">\n",
       "      <th></th>\n",
       "      <th>feature_1</th>\n",
       "      <th>feature_2</th>\n",
       "      <th>feature_3</th>\n",
       "      <th>feature_4</th>\n",
       "      <th>message_1</th>\n",
       "      <th>message_2</th>\n",
       "      <th>message_3</th>\n",
       "      <th>message_4</th>\n",
       "      <th>message_5</th>\n",
       "    </tr>\n",
       "  </thead>\n",
       "  <tbody>\n",
       "    <tr>\n",
       "      <th>0</th>\n",
       "      <td>0.374540</td>\n",
       "      <td>0.950714</td>\n",
       "      <td>0.731994</td>\n",
       "      <td>0.598658</td>\n",
       "      <td>1.0</td>\n",
       "      <td>1.0</td>\n",
       "      <td>1.0</td>\n",
       "      <td>0.0</td>\n",
       "      <td>1.0</td>\n",
       "    </tr>\n",
       "    <tr>\n",
       "      <th>1</th>\n",
       "      <td>0.156019</td>\n",
       "      <td>0.155995</td>\n",
       "      <td>0.058084</td>\n",
       "      <td>0.866176</td>\n",
       "      <td>1.0</td>\n",
       "      <td>0.0</td>\n",
       "      <td>1.0</td>\n",
       "      <td>1.0</td>\n",
       "      <td>1.0</td>\n",
       "    </tr>\n",
       "    <tr>\n",
       "      <th>2</th>\n",
       "      <td>0.601115</td>\n",
       "      <td>0.708073</td>\n",
       "      <td>0.020584</td>\n",
       "      <td>0.969910</td>\n",
       "      <td>0.0</td>\n",
       "      <td>0.0</td>\n",
       "      <td>0.0</td>\n",
       "      <td>1.0</td>\n",
       "      <td>1.0</td>\n",
       "    </tr>\n",
       "    <tr>\n",
       "      <th>3</th>\n",
       "      <td>0.832443</td>\n",
       "      <td>0.212339</td>\n",
       "      <td>0.181825</td>\n",
       "      <td>0.183405</td>\n",
       "      <td>0.0</td>\n",
       "      <td>0.0</td>\n",
       "      <td>1.0</td>\n",
       "      <td>1.0</td>\n",
       "      <td>0.0</td>\n",
       "    </tr>\n",
       "    <tr>\n",
       "      <th>4</th>\n",
       "      <td>0.304242</td>\n",
       "      <td>0.524756</td>\n",
       "      <td>0.431945</td>\n",
       "      <td>0.291229</td>\n",
       "      <td>0.0</td>\n",
       "      <td>0.0</td>\n",
       "      <td>0.0</td>\n",
       "      <td>1.0</td>\n",
       "      <td>1.0</td>\n",
       "    </tr>\n",
       "  </tbody>\n",
       "</table>\n",
       "</div>"
      ],
      "text/plain": [
       "   feature_1  feature_2  feature_3  feature_4  message_1  message_2  \\\n",
       "0   0.374540   0.950714   0.731994   0.598658        1.0        1.0   \n",
       "1   0.156019   0.155995   0.058084   0.866176        1.0        0.0   \n",
       "2   0.601115   0.708073   0.020584   0.969910        0.0        0.0   \n",
       "3   0.832443   0.212339   0.181825   0.183405        0.0        0.0   \n",
       "4   0.304242   0.524756   0.431945   0.291229        0.0        0.0   \n",
       "\n",
       "   message_3  message_4  message_5  \n",
       "0        1.0        0.0        1.0  \n",
       "1        1.0        1.0        1.0  \n",
       "2        0.0        1.0        1.0  \n",
       "3        1.0        1.0        0.0  \n",
       "4        0.0        1.0        1.0  "
      ]
     },
     "execution_count": 4,
     "metadata": {},
     "output_type": "execute_result"
    }
   ],
   "source": [
    "import numpy as np\n",
    "import pandas as pd\n",
    "\n",
    "# Set seed for reproducibility\n",
    "np.random.seed(42)\n",
    "\n",
    "# Parameters\n",
    "n_customers = 1000  # Number of customers\n",
    "n_messages = 5  # Number of different messages\n",
    "n_features = 4  # Number of contextual features\n",
    "\n",
    "# Simulate customer features (contexts)\n",
    "X = np.random.rand(n_customers, n_features)\n",
    "\n",
    "# Simulate rewards for each message (action)\n",
    "# We assume that different contexts have different optimal messages\n",
    "true_coefficients = np.random.rand(n_messages, n_features)\n",
    "noise = np.random.randn(n_customers, n_messages) * 0.1\n",
    "rewards = X @ true_coefficients.T + noise\n",
    "\n",
    "# Convert rewards to probabilities (between 0 and 1)\n",
    "reply_probabilities = 1 / (1 + np.exp(-rewards))\n",
    "\n",
    "# Generate actual replies (binary rewards) based on probabilities\n",
    "y = np.random.binomial(1, reply_probabilities)\n",
    "\n",
    "# Create a DataFrame to store the dataset\n",
    "columns = [f'feature_{i+1}' for i in range(n_features)] + [f'message_{i+1}' for i in range(n_messages)]\n",
    "data = np.hstack((X, y))\n",
    "df = pd.DataFrame(data, columns=columns)\n",
    "\n",
    "# Display the first few rows of the dataset\n",
    "df.head()\n"
   ]
  },
  {
   "cell_type": "markdown",
   "id": "4d6230bc-f6c9-48cd-a109-4f1b0fa5c57c",
   "metadata": {},
   "source": [
    "**Step 2**: Test the Contextual Bandit Model\n",
    "Assuming your team's model is implemented as a function contextual_bandit_predict(X), which takes customer features and predicts the best message, we can simulate running the model on this dataset."
   ]
  },
  {
   "cell_type": "code",
   "execution_count": 2,
   "id": "c5a5abee-a101-4a5d-bf63-5185c60ab0c6",
   "metadata": {},
   "outputs": [
    {
     "name": "stdout",
     "output_type": "stream",
     "text": [
      "Average Reward: 0.7440\n"
     ]
    }
   ],
   "source": [
    "def contextual_bandit_predict(X):\n",
    "    \"\"\"\n",
    "    Dummy implementation for the sake of testing.\n",
    "    Replace this with your team's actual model.\n",
    "    \"\"\"\n",
    "    # For simplicity, let's assume it picks the message with the highest predicted probability\n",
    "    predicted_rewards = X @ true_coefficients.T\n",
    "    return np.argmax(predicted_rewards, axis=1)\n",
    "\n",
    "# Simulate running the bandit model\n",
    "predicted_messages = contextual_bandit_predict(X)\n",
    "\n",
    "# Calculate the actual rewards for the predicted messages\n",
    "actual_rewards = [y[i, predicted_messages[i]] for i in range(n_customers)]\n",
    "\n",
    "# Evaluate the performance: average reward\n",
    "average_reward = np.mean(actual_rewards)\n",
    "print(f'Average Reward: {average_reward:.4f}')\n"
   ]
  },
  {
   "cell_type": "markdown",
   "id": "6c7c9a42-2916-4561-8206-537c5a4fc15d",
   "metadata": {},
   "source": [
    "The higher the average reward (at least above random = 0.5) the better"
   ]
  },
  {
   "cell_type": "code",
   "execution_count": null,
   "id": "72e2c786-7838-4ad6-955b-9eb5a819013c",
   "metadata": {},
   "outputs": [],
   "source": []
  }
 ],
 "metadata": {
  "kernelspec": {
   "display_name": "Python 3 (ipykernel)",
   "language": "python",
   "name": "python3"
  },
  "language_info": {
   "codemirror_mode": {
    "name": "ipython",
    "version": 3
   },
   "file_extension": ".py",
   "mimetype": "text/x-python",
   "name": "python",
   "nbconvert_exporter": "python",
   "pygments_lexer": "ipython3",
   "version": "3.10.14"
  }
 },
 "nbformat": 4,
 "nbformat_minor": 5
}
